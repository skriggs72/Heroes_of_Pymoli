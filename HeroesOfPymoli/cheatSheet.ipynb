{
 "cells": [
  {
   "cell_type": "markdown",
   "metadata": {},
   "source": [
    "<h1>Pandas Cheat Sheet</h1>\n",
    "   "
   ]
  },
  {
   "cell_type": "markdown",
   "metadata": {},
   "source": [
    "<h3>Jupyter Notebook Shortcuts"
   ]
  },
  {
   "cell_type": "markdown",
   "metadata": {},
   "source": [
    "<h5>hit (Cmd or Ctrl) + Shift + P to view list of all shortcuts</h5>\n",
    "\n",
    "<h5>To enter command mode hit esc and you can move around with arrows</h5>\n",
    "<h4><u>Notable Shortcuts</u></h4>\n",
    "<h5>while in command mode:</h5>\n",
    "<ol>\n",
    "    <li>D + D to delete cell</li>\n",
    "    <li>A to insert a cell above</li>\n",
    "    <li>B to insert a cell below</li>\n",
    "    <li>M to change current cell to Markdown</li>\n",
    "    <li>Y to change current cell to code</li>\n",
    "    <li>Shift + J or Shift + down to select cells below</li>\n",
    "    <li>Shift + K or Shift + up to select cells above</li>\n",
    "    <li>Shift + M to merge cells</li>\n",
    "</ol>\n",
    "<h5>command mode not necessary:</h5>\n",
    "<ol>\n",
    "    <li>Ctrl + Shift + - to split the cell where your cursor is</li>\n",
    "    <li>Esc + F to do a find and replace</li>\n",
    "    <li>Esc + O to toggle output \n",
    "</ol>"
   ]
  },
  {
   "cell_type": "markdown",
   "metadata": {},
   "source": [
    "<h3>Import Pandas\n",
    "    "
   ]
  },
  {
   "cell_type": "code",
   "execution_count": 178,
   "metadata": {},
   "outputs": [],
   "source": [
    "import pandas as pd"
   ]
  },
  {
   "cell_type": "markdown",
   "metadata": {},
   "source": [
    "<h3>Create Pandas Series from a list\n",
    "    "
   ]
  },
  {
   "cell_type": "code",
   "execution_count": 179,
   "metadata": {
    "collapsed": true
   },
   "outputs": [
    {
     "name": "stdout",
     "output_type": "stream",
     "text": [
      "0    something\n",
      "1          VBA\n",
      "2       Python\n",
      "3       Pandas\n",
      "dtype: object\n",
      "mySeries at second index is Python\n"
     ]
    }
   ],
   "source": [
    "#default index starts at 0\n",
    "mySeries = pd.Series([\"something\", \"VBA\", \"Python\", \"Pandas\"])\n",
    "print(mySeries)\n",
    "print(f\"mySeries at second index is {mySeries[2]}\")"
   ]
  },
  {
   "cell_type": "code",
   "execution_count": 142,
   "metadata": {},
   "outputs": [
    {
     "name": "stdout",
     "output_type": "stream",
     "text": [
      "a     Excel\n",
      "b       VBA\n",
      "c    Python\n",
      "d    Pandas\n",
      "dtype: object\n",
      "mySeries at second index is Python\n"
     ]
    }
   ],
   "source": [
    "#you can set your own index if you'd like\n",
    "mySeries = pd.Series([\"Excel\", \"VBA\", \"Python\", \"Pandas\"], index=['a', 'b', 'c', 'd'])\n",
    "print(mySeries)\n",
    "print(f\"mySeries at second index is {mySeries['c']}\")"
   ]
  },
  {
   "cell_type": "markdown",
   "metadata": {},
   "source": [
    "<h3>Create Pandas Dataframes ( 2 ways )"
   ]
  },
  {
   "cell_type": "code",
   "execution_count": 143,
   "metadata": {},
   "outputs": [
    {
     "name": "stdout",
     "output_type": "stream",
     "text": [
      "    CLASS  WEEK\n",
      "0   Excel     1\n",
      "1     VBA     2\n",
      "2  Python     3\n",
      "3  Pandas     4\n"
     ]
    }
   ],
   "source": [
    "#1.  -> Make a pandas Dataframe from a list of dictionaries\n",
    "classSchedule = [{\"CLASS\": \"Excel\", \"WEEK\": 1},\n",
    "                 {\"CLASS\": \"VBA\", \"WEEK\": 2},\n",
    "                 {\"CLASS\": \"Python\", \"WEEK\": 3},\n",
    "                 {\"CLASS\": \"Pandas\", \"WEEK\": 4},]\n",
    "classSchedule_df = pd.DataFrame(classSchedule)\n",
    "print(classSchedule_df)"
   ]
  },
  {
   "cell_type": "code",
   "execution_count": 144,
   "metadata": {},
   "outputs": [
    {
     "name": "stdout",
     "output_type": "stream",
     "text": [
      "    CLASS  WEEK\n",
      "0   Excel     1\n",
      "1     VBA     2\n",
      "2  Python     3\n",
      "3  Pandas     4\n"
     ]
    }
   ],
   "source": [
    "#2.  -> Make a pandas Dataframe from a dictionary of lists\n",
    "classSchedule2 = {\"CLASS\": [\"Excel\",\"VBA\",\"Python\",\"Pandas\"],\n",
    "                  \"WEEK\": [1,2,3,4]}\n",
    "classSchedule2_df = pd.DataFrame(classSchedule2)\n",
    "print(classSchedule2_df)"
   ]
  },
  {
   "cell_type": "markdown",
   "metadata": {},
   "source": [
    "<h3> Import CSV into a Pandas Dataframe"
   ]
  },
  {
   "cell_type": "code",
   "execution_count": 145,
   "metadata": {},
   "outputs": [],
   "source": [
    "myFile = \"../../05-Ins_DataFunctions/Solved/Resources/dataSet.csv\""
   ]
  },
  {
   "cell_type": "code",
   "execution_count": 147,
   "metadata": {},
   "outputs": [
    {
     "name": "stdout",
     "output_type": "stream",
     "text": [
      "   id First Name Last Name Gender   Amount\n",
      "0   1       Todd     Lopez      M   8067.7\n",
      "1   2     Joshua     White      M   7330.1\n",
      "2   3       Mary     Lewis      F  16335.0\n",
      "3   4      Emily     Burns      F  12460.8\n",
      "4   5  Christina    Romero      F  15271.9\n"
     ]
    }
   ],
   "source": [
    "myFile_df = pd.read_csv(myFile)\n",
    "print(myFile_df.head())"
   ]
  },
  {
   "cell_type": "markdown",
   "metadata": {},
   "source": [
    "<h3> Notable DataFrame Methods"
   ]
  },
  {
   "cell_type": "markdown",
   "metadata": {},
   "source": [
    "<h4>The <u>head()</u> method</h4>"
   ]
  },
  {
   "cell_type": "code",
   "execution_count": 115,
   "metadata": {},
   "outputs": [
    {
     "data": {
      "text/html": [
       "<div>\n",
       "<style scoped>\n",
       "    .dataframe tbody tr th:only-of-type {\n",
       "        vertical-align: middle;\n",
       "    }\n",
       "\n",
       "    .dataframe tbody tr th {\n",
       "        vertical-align: top;\n",
       "    }\n",
       "\n",
       "    .dataframe thead th {\n",
       "        text-align: right;\n",
       "    }\n",
       "</style>\n",
       "<table border=\"1\" class=\"dataframe\">\n",
       "  <thead>\n",
       "    <tr style=\"text-align: right;\">\n",
       "      <th></th>\n",
       "      <th>id</th>\n",
       "      <th>First Name</th>\n",
       "      <th>Last Name</th>\n",
       "      <th>Gender</th>\n",
       "      <th>Amount</th>\n",
       "    </tr>\n",
       "  </thead>\n",
       "  <tbody>\n",
       "    <tr>\n",
       "      <th>0</th>\n",
       "      <td>1</td>\n",
       "      <td>Todd</td>\n",
       "      <td>Lopez</td>\n",
       "      <td>M</td>\n",
       "      <td>8067.7</td>\n",
       "    </tr>\n",
       "    <tr>\n",
       "      <th>1</th>\n",
       "      <td>2</td>\n",
       "      <td>Joshua</td>\n",
       "      <td>White</td>\n",
       "      <td>M</td>\n",
       "      <td>7330.1</td>\n",
       "    </tr>\n",
       "    <tr>\n",
       "      <th>2</th>\n",
       "      <td>3</td>\n",
       "      <td>Mary</td>\n",
       "      <td>Lewis</td>\n",
       "      <td>F</td>\n",
       "      <td>16335.0</td>\n",
       "    </tr>\n",
       "    <tr>\n",
       "      <th>3</th>\n",
       "      <td>4</td>\n",
       "      <td>Emily</td>\n",
       "      <td>Burns</td>\n",
       "      <td>F</td>\n",
       "      <td>12460.8</td>\n",
       "    </tr>\n",
       "    <tr>\n",
       "      <th>4</th>\n",
       "      <td>5</td>\n",
       "      <td>Christina</td>\n",
       "      <td>Romero</td>\n",
       "      <td>F</td>\n",
       "      <td>15271.9</td>\n",
       "    </tr>\n",
       "    <tr>\n",
       "      <th>5</th>\n",
       "      <td>6</td>\n",
       "      <td>Raymond</td>\n",
       "      <td>Andrews</td>\n",
       "      <td>M</td>\n",
       "      <td>7036.9</td>\n",
       "    </tr>\n",
       "    <tr>\n",
       "      <th>6</th>\n",
       "      <td>7</td>\n",
       "      <td>Sandra</td>\n",
       "      <td>Baker</td>\n",
       "      <td>F</td>\n",
       "      <td>14002.2</td>\n",
       "    </tr>\n",
       "  </tbody>\n",
       "</table>\n",
       "</div>"
      ],
      "text/plain": [
       "   id First Name Last Name Gender   Amount\n",
       "0   1       Todd     Lopez      M   8067.7\n",
       "1   2     Joshua     White      M   7330.1\n",
       "2   3       Mary     Lewis      F  16335.0\n",
       "3   4      Emily     Burns      F  12460.8\n",
       "4   5  Christina    Romero      F  15271.9\n",
       "5   6    Raymond   Andrews      M   7036.9\n",
       "6   7     Sandra     Baker      F  14002.2"
      ]
     },
     "execution_count": 115,
     "metadata": {},
     "output_type": "execute_result"
    }
   ],
   "source": [
    "#show header and amount of rows (default=5) you want as parameter using the head() method\n",
    "rows_to_show = 7\n",
    "myFile_df.head(rows_to_show)"
   ]
  },
  {
   "cell_type": "code",
   "execution_count": 116,
   "metadata": {},
   "outputs": [
    {
     "data": {
      "text/plain": [
       "0      Todd\n",
       "1    Joshua\n",
       "2      Mary\n",
       "Name: First Name, dtype: object"
      ]
     },
     "execution_count": 116,
     "metadata": {},
     "output_type": "execute_result"
    }
   ],
   "source": [
    "#look at rows of just one column\n",
    "myFile_df['First Name'].head(3)"
   ]
  },
  {
   "cell_type": "code",
   "execution_count": 148,
   "metadata": {},
   "outputs": [
    {
     "data": {
      "text/html": [
       "<div>\n",
       "<style scoped>\n",
       "    .dataframe tbody tr th:only-of-type {\n",
       "        vertical-align: middle;\n",
       "    }\n",
       "\n",
       "    .dataframe tbody tr th {\n",
       "        vertical-align: top;\n",
       "    }\n",
       "\n",
       "    .dataframe thead th {\n",
       "        text-align: right;\n",
       "    }\n",
       "</style>\n",
       "<table border=\"1\" class=\"dataframe\">\n",
       "  <thead>\n",
       "    <tr style=\"text-align: right;\">\n",
       "      <th></th>\n",
       "      <th>First Name</th>\n",
       "      <th>Last Name</th>\n",
       "    </tr>\n",
       "  </thead>\n",
       "  <tbody>\n",
       "    <tr>\n",
       "      <th>0</th>\n",
       "      <td>Todd</td>\n",
       "      <td>Lopez</td>\n",
       "    </tr>\n",
       "    <tr>\n",
       "      <th>1</th>\n",
       "      <td>Joshua</td>\n",
       "      <td>White</td>\n",
       "    </tr>\n",
       "    <tr>\n",
       "      <th>2</th>\n",
       "      <td>Mary</td>\n",
       "      <td>Lewis</td>\n",
       "    </tr>\n",
       "  </tbody>\n",
       "</table>\n",
       "</div>"
      ],
      "text/plain": [
       "  First Name Last Name\n",
       "0       Todd     Lopez\n",
       "1     Joshua     White\n",
       "2       Mary     Lewis"
      ]
     },
     "execution_count": 148,
     "metadata": {},
     "output_type": "execute_result"
    }
   ],
   "source": [
    "#look at rows of multiple columns NOTICE THE DOUBLE SQUARE BRACKETS\n",
    "myFile_df[['First Name', 'Last Name']].head(3)"
   ]
  },
  {
   "cell_type": "markdown",
   "metadata": {},
   "source": [
    "<h4>The <u>describe()</u> method</h4>"
   ]
  },
  {
   "cell_type": "code",
   "execution_count": 149,
   "metadata": {},
   "outputs": [
    {
     "data": {
      "text/html": [
       "<div>\n",
       "<style scoped>\n",
       "    .dataframe tbody tr th:only-of-type {\n",
       "        vertical-align: middle;\n",
       "    }\n",
       "\n",
       "    .dataframe tbody tr th {\n",
       "        vertical-align: top;\n",
       "    }\n",
       "\n",
       "    .dataframe thead th {\n",
       "        text-align: right;\n",
       "    }\n",
       "</style>\n",
       "<table border=\"1\" class=\"dataframe\">\n",
       "  <thead>\n",
       "    <tr style=\"text-align: right;\">\n",
       "      <th></th>\n",
       "      <th>id</th>\n",
       "      <th>Amount</th>\n",
       "    </tr>\n",
       "  </thead>\n",
       "  <tbody>\n",
       "    <tr>\n",
       "      <th>count</th>\n",
       "      <td>1000.000000</td>\n",
       "      <td>1000.000000</td>\n",
       "    </tr>\n",
       "    <tr>\n",
       "      <th>mean</th>\n",
       "      <td>500.500000</td>\n",
       "      <td>10051.323600</td>\n",
       "    </tr>\n",
       "    <tr>\n",
       "      <th>std</th>\n",
       "      <td>288.819436</td>\n",
       "      <td>5831.230806</td>\n",
       "    </tr>\n",
       "    <tr>\n",
       "      <th>min</th>\n",
       "      <td>1.000000</td>\n",
       "      <td>3.400000</td>\n",
       "    </tr>\n",
       "    <tr>\n",
       "      <th>25%</th>\n",
       "      <td>250.750000</td>\n",
       "      <td>4854.875000</td>\n",
       "    </tr>\n",
       "    <tr>\n",
       "      <th>50%</th>\n",
       "      <td>500.500000</td>\n",
       "      <td>10318.050000</td>\n",
       "    </tr>\n",
       "    <tr>\n",
       "      <th>75%</th>\n",
       "      <td>750.250000</td>\n",
       "      <td>15117.425000</td>\n",
       "    </tr>\n",
       "    <tr>\n",
       "      <th>max</th>\n",
       "      <td>1000.000000</td>\n",
       "      <td>19987.400000</td>\n",
       "    </tr>\n",
       "  </tbody>\n",
       "</table>\n",
       "</div>"
      ],
      "text/plain": [
       "                id        Amount\n",
       "count  1000.000000   1000.000000\n",
       "mean    500.500000  10051.323600\n",
       "std     288.819436   5831.230806\n",
       "min       1.000000      3.400000\n",
       "25%     250.750000   4854.875000\n",
       "50%     500.500000  10318.050000\n",
       "75%     750.250000  15117.425000\n",
       "max    1000.000000  19987.400000"
      ]
     },
     "execution_count": 149,
     "metadata": {},
     "output_type": "execute_result"
    }
   ],
   "source": [
    "#View a statistical overview of the Dataframe...  NOTE IT IS SHOWING YOU OTHER METHODS YOU CAN USE\n",
    "myFile_df.describe()"
   ]
  },
  {
   "cell_type": "markdown",
   "metadata": {},
   "source": [
    "<h4>The <u>sum()</u> method</h4>"
   ]
  },
  {
   "cell_type": "code",
   "execution_count": 150,
   "metadata": {},
   "outputs": [
    {
     "data": {
      "text/plain": [
       "10051323.600000001"
      ]
     },
     "execution_count": 150,
     "metadata": {},
     "output_type": "execute_result"
    }
   ],
   "source": [
    "#Get the sum of a column\n",
    "myFile_df['Amount'].sum()"
   ]
  },
  {
   "cell_type": "markdown",
   "metadata": {},
   "source": [
    "<h4>The <u>unique()</u> method</h4>"
   ]
  },
  {
   "cell_type": "code",
   "execution_count": 151,
   "metadata": {},
   "outputs": [
    {
     "data": {
      "text/plain": [
       "array(['M', 'F'], dtype=object)"
      ]
     },
     "execution_count": 151,
     "metadata": {},
     "output_type": "execute_result"
    }
   ],
   "source": [
    "#Gets a list of every element of the series\n",
    "myFile_df[\"Gender\"].unique()"
   ]
  },
  {
   "cell_type": "markdown",
   "metadata": {},
   "source": [
    "<h4>The <u>value_counts()</u> method</h4>"
   ]
  },
  {
   "cell_type": "code",
   "execution_count": 152,
   "metadata": {},
   "outputs": [
    {
     "data": {
      "text/plain": [
       "M    515\n",
       "F    485\n",
       "Name: Gender, dtype: int64"
      ]
     },
     "execution_count": 152,
     "metadata": {},
     "output_type": "execute_result"
    }
   ],
   "source": [
    "#Gets a list of every element and how many times it occurs\n",
    "myFile_df[\"Gender\"].value_counts()"
   ]
  },
  {
   "cell_type": "code",
   "execution_count": 153,
   "metadata": {},
   "outputs": [
    {
     "data": {
      "text/plain": [
       "Tucker      10\n",
       "Kelly        9\n",
       "Mcdonald     9\n",
       "Wright       9\n",
       "Name: Last Name, dtype: int64"
      ]
     },
     "execution_count": 153,
     "metadata": {},
     "output_type": "execute_result"
    }
   ],
   "source": [
    "myFile_df[\"Last Name\"].value_counts().head(4)"
   ]
  },
  {
   "cell_type": "markdown",
   "metadata": {},
   "source": [
    "<h4>The <u>iloc()</u> method</h4>"
   ]
  },
  {
   "cell_type": "code",
   "execution_count": 154,
   "metadata": {},
   "outputs": [
    {
     "data": {
      "text/html": [
       "<div>\n",
       "<style scoped>\n",
       "    .dataframe tbody tr th:only-of-type {\n",
       "        vertical-align: middle;\n",
       "    }\n",
       "\n",
       "    .dataframe tbody tr th {\n",
       "        vertical-align: top;\n",
       "    }\n",
       "\n",
       "    .dataframe thead th {\n",
       "        text-align: right;\n",
       "    }\n",
       "</style>\n",
       "<table border=\"1\" class=\"dataframe\">\n",
       "  <thead>\n",
       "    <tr style=\"text-align: right;\">\n",
       "      <th></th>\n",
       "      <th>id</th>\n",
       "      <th>First Name</th>\n",
       "      <th>Last Name</th>\n",
       "      <th>Gender</th>\n",
       "      <th>Amount</th>\n",
       "    </tr>\n",
       "  </thead>\n",
       "  <tbody>\n",
       "    <tr>\n",
       "      <th>7</th>\n",
       "      <td>8</td>\n",
       "      <td>Todd</td>\n",
       "      <td>Diaz</td>\n",
       "      <td>M</td>\n",
       "      <td>10911.0</td>\n",
       "    </tr>\n",
       "    <tr>\n",
       "      <th>8</th>\n",
       "      <td>9</td>\n",
       "      <td>Alice</td>\n",
       "      <td>Burke</td>\n",
       "      <td>F</td>\n",
       "      <td>14198.8</td>\n",
       "    </tr>\n",
       "    <tr>\n",
       "      <th>9</th>\n",
       "      <td>10</td>\n",
       "      <td>Wayne</td>\n",
       "      <td>Richards</td>\n",
       "      <td>M</td>\n",
       "      <td>16410.5</td>\n",
       "    </tr>\n",
       "  </tbody>\n",
       "</table>\n",
       "</div>"
      ],
      "text/plain": [
       "   id First Name Last Name Gender   Amount\n",
       "7   8       Todd      Diaz      M  10911.0\n",
       "8   9      Alice     Burke      F  14198.8\n",
       "9  10      Wayne  Richards      M  16410.5"
      ]
     },
     "execution_count": 154,
     "metadata": {},
     "output_type": "execute_result"
    }
   ],
   "source": [
    "#Select a position by value\n",
    "#iloc(rowstart:rowend,columnstart:columnend)\n",
    "#if column is left blank it will just return row\n",
    "myFile_df.iloc[7:10]"
   ]
  },
  {
   "cell_type": "code",
   "execution_count": 155,
   "metadata": {},
   "outputs": [
    {
     "data": {
      "text/html": [
       "<div>\n",
       "<style scoped>\n",
       "    .dataframe tbody tr th:only-of-type {\n",
       "        vertical-align: middle;\n",
       "    }\n",
       "\n",
       "    .dataframe tbody tr th {\n",
       "        vertical-align: top;\n",
       "    }\n",
       "\n",
       "    .dataframe thead th {\n",
       "        text-align: right;\n",
       "    }\n",
       "</style>\n",
       "<table border=\"1\" class=\"dataframe\">\n",
       "  <thead>\n",
       "    <tr style=\"text-align: right;\">\n",
       "      <th></th>\n",
       "      <th>First Name</th>\n",
       "      <th>Last Name</th>\n",
       "      <th>Gender</th>\n",
       "    </tr>\n",
       "  </thead>\n",
       "  <tbody>\n",
       "    <tr>\n",
       "      <th>0</th>\n",
       "      <td>Todd</td>\n",
       "      <td>Lopez</td>\n",
       "      <td>M</td>\n",
       "    </tr>\n",
       "    <tr>\n",
       "      <th>1</th>\n",
       "      <td>Joshua</td>\n",
       "      <td>White</td>\n",
       "      <td>M</td>\n",
       "    </tr>\n",
       "    <tr>\n",
       "      <th>2</th>\n",
       "      <td>Mary</td>\n",
       "      <td>Lewis</td>\n",
       "      <td>F</td>\n",
       "    </tr>\n",
       "  </tbody>\n",
       "</table>\n",
       "</div>"
      ],
      "text/plain": [
       "  First Name Last Name Gender\n",
       "0       Todd     Lopez      M\n",
       "1     Joshua     White      M\n",
       "2       Mary     Lewis      F"
      ]
     },
     "execution_count": 155,
     "metadata": {},
     "output_type": "execute_result"
    }
   ],
   "source": [
    "#all rows of multiple columns can easily be picked\n",
    "myFile_df.iloc[:,1:4].head(3)"
   ]
  },
  {
   "cell_type": "markdown",
   "metadata": {},
   "source": [
    "<h4>The <u>loc()</u> method</h4>"
   ]
  },
  {
   "cell_type": "code",
   "execution_count": 156,
   "metadata": {},
   "outputs": [
    {
     "data": {
      "text/plain": [
       "7     10911.0\n",
       "8     14198.8\n",
       "9     16410.5\n",
       "10    15029.4\n",
       "Name: Amount, dtype: float64"
      ]
     },
     "execution_count": 156,
     "metadata": {},
     "output_type": "execute_result"
    }
   ],
   "source": [
    "#Select a position by column name.  This is picking rows 7-10 in the Amount Column.\n",
    "myFile_df.loc[7:10][\"Amount\"]"
   ]
  },
  {
   "cell_type": "code",
   "execution_count": 157,
   "metadata": {},
   "outputs": [
    {
     "data": {
      "text/plain": [
       "0       8067.7\n",
       "1       7330.1\n",
       "2      16335.0\n",
       "3      12460.8\n",
       "4      15271.9\n",
       "        ...   \n",
       "995    17868.5\n",
       "996    15182.9\n",
       "997     3720.7\n",
       "998    10824.6\n",
       "999     6090.7\n",
       "Name: Amount, Length: 1000, dtype: float64"
      ]
     },
     "execution_count": 157,
     "metadata": {},
     "output_type": "execute_result"
    }
   ],
   "source": [
    "#select column\n",
    "myFile_df.loc[:][\"Amount\"]\n"
   ]
  },
  {
   "cell_type": "code",
   "execution_count": 158,
   "metadata": {},
   "outputs": [
    {
     "data": {
      "text/plain": [
       "id                  6\n",
       "First Name    Raymond\n",
       "Last Name     Andrews\n",
       "Gender              M\n",
       "Amount         7036.9\n",
       "Name: 5, dtype: object"
      ]
     },
     "execution_count": 158,
     "metadata": {},
     "output_type": "execute_result"
    }
   ],
   "source": [
    "#select row\n",
    "myFile_df.loc[5]"
   ]
  },
  {
   "cell_type": "code",
   "execution_count": 159,
   "metadata": {
    "scrolled": true
   },
   "outputs": [
    {
     "data": {
      "text/html": [
       "<div>\n",
       "<style scoped>\n",
       "    .dataframe tbody tr th:only-of-type {\n",
       "        vertical-align: middle;\n",
       "    }\n",
       "\n",
       "    .dataframe tbody tr th {\n",
       "        vertical-align: top;\n",
       "    }\n",
       "\n",
       "    .dataframe thead th {\n",
       "        text-align: right;\n",
       "    }\n",
       "</style>\n",
       "<table border=\"1\" class=\"dataframe\">\n",
       "  <thead>\n",
       "    <tr style=\"text-align: right;\">\n",
       "      <th></th>\n",
       "      <th>id</th>\n",
       "      <th>First Name</th>\n",
       "      <th>Last Name</th>\n",
       "      <th>Gender</th>\n",
       "      <th>Amount</th>\n",
       "    </tr>\n",
       "  </thead>\n",
       "  <tbody>\n",
       "    <tr>\n",
       "      <th>13</th>\n",
       "      <td>14</td>\n",
       "      <td>John</td>\n",
       "      <td>Turner</td>\n",
       "      <td>M</td>\n",
       "      <td>19909.3</td>\n",
       "    </tr>\n",
       "    <tr>\n",
       "      <th>264</th>\n",
       "      <td>265</td>\n",
       "      <td>Stephanie</td>\n",
       "      <td>Rodriguez</td>\n",
       "      <td>F</td>\n",
       "      <td>19907.4</td>\n",
       "    </tr>\n",
       "    <tr>\n",
       "      <th>440</th>\n",
       "      <td>441</td>\n",
       "      <td>Katherine</td>\n",
       "      <td>Wheeler</td>\n",
       "      <td>F</td>\n",
       "      <td>19987.4</td>\n",
       "    </tr>\n",
       "    <tr>\n",
       "      <th>550</th>\n",
       "      <td>551</td>\n",
       "      <td>Larry</td>\n",
       "      <td>Martinez</td>\n",
       "      <td>M</td>\n",
       "      <td>19877.7</td>\n",
       "    </tr>\n",
       "    <tr>\n",
       "      <th>632</th>\n",
       "      <td>633</td>\n",
       "      <td>Ann</td>\n",
       "      <td>Clark</td>\n",
       "      <td>F</td>\n",
       "      <td>19899.6</td>\n",
       "    </tr>\n",
       "    <tr>\n",
       "      <th>791</th>\n",
       "      <td>792</td>\n",
       "      <td>Keith</td>\n",
       "      <td>Reed</td>\n",
       "      <td>M</td>\n",
       "      <td>19945.3</td>\n",
       "    </tr>\n",
       "    <tr>\n",
       "      <th>993</th>\n",
       "      <td>994</td>\n",
       "      <td>Aaron</td>\n",
       "      <td>Mitchell</td>\n",
       "      <td>M</td>\n",
       "      <td>19881.7</td>\n",
       "    </tr>\n",
       "  </tbody>\n",
       "</table>\n",
       "</div>"
      ],
      "text/plain": [
       "      id First Name  Last Name Gender   Amount\n",
       "13    14       John     Turner      M  19909.3\n",
       "264  265  Stephanie  Rodriguez      F  19907.4\n",
       "440  441  Katherine    Wheeler      F  19987.4\n",
       "550  551      Larry   Martinez      M  19877.7\n",
       "632  633        Ann      Clark      F  19899.6\n",
       "791  792      Keith       Reed      M  19945.3\n",
       "993  994      Aaron   Mitchell      M  19881.7"
      ]
     },
     "execution_count": 159,
     "metadata": {},
     "output_type": "execute_result"
    }
   ],
   "source": [
    "#Select rows based on a condition in a column\n",
    "myFile_df.loc[myFile_df[\"Amount\"] > 19800]"
   ]
  },
  {
   "cell_type": "markdown",
   "metadata": {},
   "source": [
    "<h4>The <u>rename()</u> method</h4>"
   ]
  },
  {
   "cell_type": "code",
   "execution_count": 160,
   "metadata": {},
   "outputs": [
    {
     "data": {
      "text/html": [
       "<div>\n",
       "<style scoped>\n",
       "    .dataframe tbody tr th:only-of-type {\n",
       "        vertical-align: middle;\n",
       "    }\n",
       "\n",
       "    .dataframe tbody tr th {\n",
       "        vertical-align: top;\n",
       "    }\n",
       "\n",
       "    .dataframe thead th {\n",
       "        text-align: right;\n",
       "    }\n",
       "</style>\n",
       "<table border=\"1\" class=\"dataframe\">\n",
       "  <thead>\n",
       "    <tr style=\"text-align: right;\">\n",
       "      <th></th>\n",
       "      <th>id</th>\n",
       "      <th>First Name</th>\n",
       "      <th>Last Name</th>\n",
       "      <th>Gender</th>\n",
       "      <th>Amount</th>\n",
       "    </tr>\n",
       "  </thead>\n",
       "  <tbody>\n",
       "    <tr>\n",
       "      <th>0</th>\n",
       "      <td>1</td>\n",
       "      <td>Todd</td>\n",
       "      <td>Lopez</td>\n",
       "      <td>M</td>\n",
       "      <td>8067.7</td>\n",
       "    </tr>\n",
       "    <tr>\n",
       "      <th>1</th>\n",
       "      <td>2</td>\n",
       "      <td>Joshua</td>\n",
       "      <td>White</td>\n",
       "      <td>M</td>\n",
       "      <td>7330.1</td>\n",
       "    </tr>\n",
       "    <tr>\n",
       "      <th>2</th>\n",
       "      <td>3</td>\n",
       "      <td>Mary</td>\n",
       "      <td>Lewis</td>\n",
       "      <td>F</td>\n",
       "      <td>16335.0</td>\n",
       "    </tr>\n",
       "    <tr>\n",
       "      <th>3</th>\n",
       "      <td>4</td>\n",
       "      <td>Emily</td>\n",
       "      <td>Burns</td>\n",
       "      <td>F</td>\n",
       "      <td>12460.8</td>\n",
       "    </tr>\n",
       "    <tr>\n",
       "      <th>4</th>\n",
       "      <td>5</td>\n",
       "      <td>Christina</td>\n",
       "      <td>Romero</td>\n",
       "      <td>F</td>\n",
       "      <td>15271.9</td>\n",
       "    </tr>\n",
       "  </tbody>\n",
       "</table>\n",
       "</div>"
      ],
      "text/plain": [
       "   id First Name Last Name Gender   Amount\n",
       "0   1       Todd     Lopez      M   8067.7\n",
       "1   2     Joshua     White      M   7330.1\n",
       "2   3       Mary     Lewis      F  16335.0\n",
       "3   4      Emily     Burns      F  12460.8\n",
       "4   5  Christina    Romero      F  15271.9"
      ]
     },
     "execution_count": 160,
     "metadata": {},
     "output_type": "execute_result"
    }
   ],
   "source": [
    "#rename one or more columns\n",
    "myFile_df.head()"
   ]
  },
  {
   "cell_type": "code",
   "execution_count": 161,
   "metadata": {},
   "outputs": [
    {
     "data": {
      "text/html": [
       "<div>\n",
       "<style scoped>\n",
       "    .dataframe tbody tr th:only-of-type {\n",
       "        vertical-align: middle;\n",
       "    }\n",
       "\n",
       "    .dataframe tbody tr th {\n",
       "        vertical-align: top;\n",
       "    }\n",
       "\n",
       "    .dataframe thead th {\n",
       "        text-align: right;\n",
       "    }\n",
       "</style>\n",
       "<table border=\"1\" class=\"dataframe\">\n",
       "  <thead>\n",
       "    <tr style=\"text-align: right;\">\n",
       "      <th></th>\n",
       "      <th>Employee ID</th>\n",
       "      <th>First Name</th>\n",
       "      <th>Last Name</th>\n",
       "      <th>Gender</th>\n",
       "      <th>Amount</th>\n",
       "    </tr>\n",
       "  </thead>\n",
       "  <tbody>\n",
       "    <tr>\n",
       "      <th>0</th>\n",
       "      <td>1</td>\n",
       "      <td>Todd</td>\n",
       "      <td>Lopez</td>\n",
       "      <td>M</td>\n",
       "      <td>8067.7</td>\n",
       "    </tr>\n",
       "    <tr>\n",
       "      <th>1</th>\n",
       "      <td>2</td>\n",
       "      <td>Joshua</td>\n",
       "      <td>White</td>\n",
       "      <td>M</td>\n",
       "      <td>7330.1</td>\n",
       "    </tr>\n",
       "    <tr>\n",
       "      <th>2</th>\n",
       "      <td>3</td>\n",
       "      <td>Mary</td>\n",
       "      <td>Lewis</td>\n",
       "      <td>F</td>\n",
       "      <td>16335.0</td>\n",
       "    </tr>\n",
       "    <tr>\n",
       "      <th>3</th>\n",
       "      <td>4</td>\n",
       "      <td>Emily</td>\n",
       "      <td>Burns</td>\n",
       "      <td>F</td>\n",
       "      <td>12460.8</td>\n",
       "    </tr>\n",
       "    <tr>\n",
       "      <th>4</th>\n",
       "      <td>5</td>\n",
       "      <td>Christina</td>\n",
       "      <td>Romero</td>\n",
       "      <td>F</td>\n",
       "      <td>15271.9</td>\n",
       "    </tr>\n",
       "  </tbody>\n",
       "</table>\n",
       "</div>"
      ],
      "text/plain": [
       "   Employee ID First Name Last Name Gender   Amount\n",
       "0            1       Todd     Lopez      M   8067.7\n",
       "1            2     Joshua     White      M   7330.1\n",
       "2            3       Mary     Lewis      F  16335.0\n",
       "3            4      Emily     Burns      F  12460.8\n",
       "4            5  Christina    Romero      F  15271.9"
      ]
     },
     "execution_count": 161,
     "metadata": {},
     "output_type": "execute_result"
    }
   ],
   "source": [
    "myFile_df.rename(columns={\"id\":\"Employee ID\"}).head()"
   ]
  },
  {
   "cell_type": "code",
   "execution_count": 162,
   "metadata": {},
   "outputs": [
    {
     "data": {
      "text/html": [
       "<div>\n",
       "<style scoped>\n",
       "    .dataframe tbody tr th:only-of-type {\n",
       "        vertical-align: middle;\n",
       "    }\n",
       "\n",
       "    .dataframe tbody tr th {\n",
       "        vertical-align: top;\n",
       "    }\n",
       "\n",
       "    .dataframe thead th {\n",
       "        text-align: right;\n",
       "    }\n",
       "</style>\n",
       "<table border=\"1\" class=\"dataframe\">\n",
       "  <thead>\n",
       "    <tr style=\"text-align: right;\">\n",
       "      <th></th>\n",
       "      <th>Last Name</th>\n",
       "      <th>First Name</th>\n",
       "    </tr>\n",
       "  </thead>\n",
       "  <tbody>\n",
       "    <tr>\n",
       "      <th>0</th>\n",
       "      <td>Lopez</td>\n",
       "      <td>Todd</td>\n",
       "    </tr>\n",
       "    <tr>\n",
       "      <th>1</th>\n",
       "      <td>White</td>\n",
       "      <td>Joshua</td>\n",
       "    </tr>\n",
       "    <tr>\n",
       "      <th>2</th>\n",
       "      <td>Lewis</td>\n",
       "      <td>Mary</td>\n",
       "    </tr>\n",
       "    <tr>\n",
       "      <th>3</th>\n",
       "      <td>Burns</td>\n",
       "      <td>Emily</td>\n",
       "    </tr>\n",
       "    <tr>\n",
       "      <th>4</th>\n",
       "      <td>Romero</td>\n",
       "      <td>Christina</td>\n",
       "    </tr>\n",
       "  </tbody>\n",
       "</table>\n",
       "</div>"
      ],
      "text/plain": [
       "  Last Name First Name\n",
       "0     Lopez       Todd\n",
       "1     White     Joshua\n",
       "2     Lewis       Mary\n",
       "3     Burns      Emily\n",
       "4    Romero  Christina"
      ]
     },
     "execution_count": 162,
     "metadata": {},
     "output_type": "execute_result"
    }
   ],
   "source": [
    "#rearrange columns\n",
    "myFile_df[[\"Last Name\", \"First Name\"]].head()"
   ]
  },
  {
   "cell_type": "code",
   "execution_count": 173,
   "metadata": {},
   "outputs": [
    {
     "data": {
      "text/plain": [
       "Index(['id', 'First Name', 'Last Name', 'Gender', 'Amount'], dtype='object')"
      ]
     },
     "execution_count": 173,
     "metadata": {},
     "output_type": "execute_result"
    }
   ],
   "source": [
    "myFile_df.columns"
   ]
  },
  {
   "cell_type": "code",
   "execution_count": 176,
   "metadata": {},
   "outputs": [
    {
     "ename": "TypeError",
     "evalue": "rename() got an unexpected keyword argument 'index'",
     "output_type": "error",
     "traceback": [
      "\u001b[1;31m---------------------------------------------------------------------------\u001b[0m",
      "\u001b[1;31mTypeError\u001b[0m                                 Traceback (most recent call last)",
      "\u001b[1;32m<ipython-input-176-2ca9f950c07a>\u001b[0m in \u001b[0;36m<module>\u001b[1;34m()\u001b[0m\n\u001b[1;32m----> 1\u001b[1;33m \u001b[0mmyFile_df\u001b[0m\u001b[1;33m.\u001b[0m\u001b[0mindex\u001b[0m\u001b[1;33m.\u001b[0m\u001b[0mrename\u001b[0m\u001b[1;33m(\u001b[0m\u001b[0mindex\u001b[0m\u001b[1;33m=\u001b[0m\u001b[1;33m{\u001b[0m\u001b[1;34m\"id\"\u001b[0m\u001b[1;33m:\u001b[0m \u001b[1;34m\"Employee ID\"\u001b[0m\u001b[1;33m}\u001b[0m\u001b[1;33m)\u001b[0m\u001b[1;33m\u001b[0m\u001b[1;33m\u001b[0m\u001b[0m\n\u001b[0m",
      "\u001b[1;31mTypeError\u001b[0m: rename() got an unexpected keyword argument 'index'"
     ]
    }
   ],
   "source": [
    "myFile_df.index.rename(index={\"id\": \"Employee ID\"})"
   ]
  },
  {
   "cell_type": "code",
   "execution_count": 175,
   "metadata": {},
   "outputs": [
    {
     "data": {
      "text/plain": [
       "Index(['id', 'First Name', 'Last Name', 'Gender', 'Amount'], dtype='object')"
      ]
     },
     "execution_count": 175,
     "metadata": {},
     "output_type": "execute_result"
    }
   ],
   "source": [
    "myFile_df.columns"
   ]
  },
  {
   "cell_type": "markdown",
   "metadata": {},
   "source": [
    "<h3>Apply Calculation to Column and Append Calculated Data to a New Column"
   ]
  },
  {
   "cell_type": "code",
   "execution_count": 97,
   "metadata": {},
   "outputs": [
    {
     "data": {
      "text/html": [
       "<div>\n",
       "<style scoped>\n",
       "    .dataframe tbody tr th:only-of-type {\n",
       "        vertical-align: middle;\n",
       "    }\n",
       "\n",
       "    .dataframe tbody tr th {\n",
       "        vertical-align: top;\n",
       "    }\n",
       "\n",
       "    .dataframe thead th {\n",
       "        text-align: right;\n",
       "    }\n",
       "</style>\n",
       "<table border=\"1\" class=\"dataframe\">\n",
       "  <thead>\n",
       "    <tr style=\"text-align: right;\">\n",
       "      <th></th>\n",
       "      <th>id</th>\n",
       "      <th>First Name</th>\n",
       "      <th>Last Name</th>\n",
       "      <th>Gender</th>\n",
       "      <th>Amount</th>\n",
       "      <th>Thousands of Dollars</th>\n",
       "    </tr>\n",
       "  </thead>\n",
       "  <tbody>\n",
       "    <tr>\n",
       "      <th>0</th>\n",
       "      <td>1</td>\n",
       "      <td>Todd</td>\n",
       "      <td>Lopez</td>\n",
       "      <td>M</td>\n",
       "      <td>8067.7</td>\n",
       "      <td>8.0677</td>\n",
       "    </tr>\n",
       "    <tr>\n",
       "      <th>1</th>\n",
       "      <td>2</td>\n",
       "      <td>Joshua</td>\n",
       "      <td>White</td>\n",
       "      <td>M</td>\n",
       "      <td>7330.1</td>\n",
       "      <td>7.3301</td>\n",
       "    </tr>\n",
       "    <tr>\n",
       "      <th>2</th>\n",
       "      <td>3</td>\n",
       "      <td>Mary</td>\n",
       "      <td>Lewis</td>\n",
       "      <td>F</td>\n",
       "      <td>16335.0</td>\n",
       "      <td>16.3350</td>\n",
       "    </tr>\n",
       "    <tr>\n",
       "      <th>3</th>\n",
       "      <td>4</td>\n",
       "      <td>Emily</td>\n",
       "      <td>Burns</td>\n",
       "      <td>F</td>\n",
       "      <td>12460.8</td>\n",
       "      <td>12.4608</td>\n",
       "    </tr>\n",
       "    <tr>\n",
       "      <th>4</th>\n",
       "      <td>5</td>\n",
       "      <td>Christina</td>\n",
       "      <td>Romero</td>\n",
       "      <td>F</td>\n",
       "      <td>15271.9</td>\n",
       "      <td>15.2719</td>\n",
       "    </tr>\n",
       "  </tbody>\n",
       "</table>\n",
       "</div>"
      ],
      "text/plain": [
       "   id First Name Last Name Gender   Amount  Thousands of Dollars\n",
       "0   1       Todd     Lopez      M   8067.7                8.0677\n",
       "1   2     Joshua     White      M   7330.1                7.3301\n",
       "2   3       Mary     Lewis      F  16335.0               16.3350\n",
       "3   4      Emily     Burns      F  12460.8               12.4608\n",
       "4   5  Christina    Romero      F  15271.9               15.2719"
      ]
     },
     "execution_count": 97,
     "metadata": {},
     "output_type": "execute_result"
    }
   ],
   "source": [
    "#Save into a variable (thousandsAmount) a series from dataframe (myFile_df) with every \n",
    "#value in the 'Amount' column divided by 1000\n",
    "thousandsAmount = myFile_df[\"Amount\"]/1000\n",
    "\n",
    "#Create a new column in dataframe and fill with calculated data\n",
    "myFile_df[\"Thousands of Dollars\"] = thousandsAmount\n",
    "\n",
    "myFile_df.head()"
   ]
  },
  {
   "cell_type": "code",
   "execution_count": null,
   "metadata": {},
   "outputs": [],
   "source": []
  }
 ],
 "metadata": {
  "kernelspec": {
   "display_name": "PythonData2",
   "language": "python",
   "name": "pythondata2"
  },
  "language_info": {
   "codemirror_mode": {
    "name": "ipython",
    "version": 3
   },
   "file_extension": ".py",
   "mimetype": "text/x-python",
   "name": "python",
   "nbconvert_exporter": "python",
   "pygments_lexer": "ipython3",
   "version": "3.8.3"
  }
 },
 "nbformat": 4,
 "nbformat_minor": 4
}
