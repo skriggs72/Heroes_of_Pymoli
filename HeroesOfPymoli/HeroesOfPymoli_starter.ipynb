{
 "cells": [
  {
   "cell_type": "markdown",
   "metadata": {},
   "source": [
    "### Note\n",
    "* Instructions have been included for each segment. You do not have to follow them exactly, but they are included to help you think through the steps."
   ]
  },
  {
   "cell_type": "code",
   "execution_count": 1,
   "metadata": {},
   "outputs": [
    {
     "data": {
      "text/html": [
       "<div>\n",
       "<style scoped>\n",
       "    .dataframe tbody tr th:only-of-type {\n",
       "        vertical-align: middle;\n",
       "    }\n",
       "\n",
       "    .dataframe tbody tr th {\n",
       "        vertical-align: top;\n",
       "    }\n",
       "\n",
       "    .dataframe thead th {\n",
       "        text-align: right;\n",
       "    }\n",
       "</style>\n",
       "<table border=\"1\" class=\"dataframe\">\n",
       "  <thead>\n",
       "    <tr style=\"text-align: right;\">\n",
       "      <th></th>\n",
       "      <th>Purchase ID</th>\n",
       "      <th>SN</th>\n",
       "      <th>Age</th>\n",
       "      <th>Gender</th>\n",
       "      <th>Item ID</th>\n",
       "      <th>Item Name</th>\n",
       "      <th>Price</th>\n",
       "    </tr>\n",
       "  </thead>\n",
       "  <tbody>\n",
       "    <tr>\n",
       "      <th>0</th>\n",
       "      <td>0</td>\n",
       "      <td>Lisim78</td>\n",
       "      <td>20</td>\n",
       "      <td>Male</td>\n",
       "      <td>108</td>\n",
       "      <td>Extraction, Quickblade Of Trembling Hands</td>\n",
       "      <td>3.53</td>\n",
       "    </tr>\n",
       "    <tr>\n",
       "      <th>1</th>\n",
       "      <td>1</td>\n",
       "      <td>Lisovynya38</td>\n",
       "      <td>40</td>\n",
       "      <td>Male</td>\n",
       "      <td>143</td>\n",
       "      <td>Frenzied Scimitar</td>\n",
       "      <td>1.56</td>\n",
       "    </tr>\n",
       "    <tr>\n",
       "      <th>2</th>\n",
       "      <td>2</td>\n",
       "      <td>Ithergue48</td>\n",
       "      <td>24</td>\n",
       "      <td>Male</td>\n",
       "      <td>92</td>\n",
       "      <td>Final Critic</td>\n",
       "      <td>4.88</td>\n",
       "    </tr>\n",
       "    <tr>\n",
       "      <th>3</th>\n",
       "      <td>3</td>\n",
       "      <td>Chamassasya86</td>\n",
       "      <td>24</td>\n",
       "      <td>Male</td>\n",
       "      <td>100</td>\n",
       "      <td>Blindscythe</td>\n",
       "      <td>3.27</td>\n",
       "    </tr>\n",
       "    <tr>\n",
       "      <th>4</th>\n",
       "      <td>4</td>\n",
       "      <td>Iskosia90</td>\n",
       "      <td>23</td>\n",
       "      <td>Male</td>\n",
       "      <td>131</td>\n",
       "      <td>Fury</td>\n",
       "      <td>1.44</td>\n",
       "    </tr>\n",
       "  </tbody>\n",
       "</table>\n",
       "</div>"
      ],
      "text/plain": [
       "   Purchase ID             SN  Age Gender  Item ID  \\\n",
       "0            0        Lisim78   20   Male      108   \n",
       "1            1    Lisovynya38   40   Male      143   \n",
       "2            2     Ithergue48   24   Male       92   \n",
       "3            3  Chamassasya86   24   Male      100   \n",
       "4            4      Iskosia90   23   Male      131   \n",
       "\n",
       "                                   Item Name  Price  \n",
       "0  Extraction, Quickblade Of Trembling Hands   3.53  \n",
       "1                          Frenzied Scimitar   1.56  \n",
       "2                               Final Critic   4.88  \n",
       "3                                Blindscythe   3.27  \n",
       "4                                       Fury   1.44  "
      ]
     },
     "execution_count": 1,
     "metadata": {},
     "output_type": "execute_result"
    }
   ],
   "source": [
    "# Dependencies and Setup\n",
    "import pandas as pd\n",
    "\n",
    "# Load file\n",
    "purchase_data = \"Resources/purchase_data.csv\"\n",
    "\n",
    "# Read Purchasing File and store into Pandas data frame\n",
    "purchase_data_df = pd.read_csv(purchase_data)\n",
    "purchase_data_df.head().drop_duplicates()"
   ]
  },
  {
   "cell_type": "markdown",
   "metadata": {},
   "source": [
    "## Player Count"
   ]
  },
  {
   "cell_type": "markdown",
   "metadata": {},
   "source": [
    "* Display the total number of players\n"
   ]
  },
  {
   "cell_type": "code",
   "execution_count": 2,
   "metadata": {},
   "outputs": [
    {
     "data": {
      "text/html": [
       "<div>\n",
       "<style scoped>\n",
       "    .dataframe tbody tr th:only-of-type {\n",
       "        vertical-align: middle;\n",
       "    }\n",
       "\n",
       "    .dataframe tbody tr th {\n",
       "        vertical-align: top;\n",
       "    }\n",
       "\n",
       "    .dataframe thead th {\n",
       "        text-align: right;\n",
       "    }\n",
       "</style>\n",
       "<table border=\"1\" class=\"dataframe\">\n",
       "  <thead>\n",
       "    <tr style=\"text-align: right;\">\n",
       "      <th></th>\n",
       "      <th>Purchase ID</th>\n",
       "      <th>Age</th>\n",
       "      <th>Item ID</th>\n",
       "      <th>Price</th>\n",
       "    </tr>\n",
       "  </thead>\n",
       "  <tbody>\n",
       "    <tr>\n",
       "      <th>count</th>\n",
       "      <td>780.000000</td>\n",
       "      <td>780.000000</td>\n",
       "      <td>780.000000</td>\n",
       "      <td>780.000000</td>\n",
       "    </tr>\n",
       "    <tr>\n",
       "      <th>mean</th>\n",
       "      <td>389.500000</td>\n",
       "      <td>22.714103</td>\n",
       "      <td>91.755128</td>\n",
       "      <td>3.050987</td>\n",
       "    </tr>\n",
       "    <tr>\n",
       "      <th>std</th>\n",
       "      <td>225.310896</td>\n",
       "      <td>6.659444</td>\n",
       "      <td>52.697702</td>\n",
       "      <td>1.169549</td>\n",
       "    </tr>\n",
       "    <tr>\n",
       "      <th>min</th>\n",
       "      <td>0.000000</td>\n",
       "      <td>7.000000</td>\n",
       "      <td>0.000000</td>\n",
       "      <td>1.000000</td>\n",
       "    </tr>\n",
       "    <tr>\n",
       "      <th>25%</th>\n",
       "      <td>194.750000</td>\n",
       "      <td>20.000000</td>\n",
       "      <td>47.750000</td>\n",
       "      <td>1.980000</td>\n",
       "    </tr>\n",
       "    <tr>\n",
       "      <th>50%</th>\n",
       "      <td>389.500000</td>\n",
       "      <td>22.000000</td>\n",
       "      <td>92.000000</td>\n",
       "      <td>3.150000</td>\n",
       "    </tr>\n",
       "    <tr>\n",
       "      <th>75%</th>\n",
       "      <td>584.250000</td>\n",
       "      <td>25.000000</td>\n",
       "      <td>138.000000</td>\n",
       "      <td>4.080000</td>\n",
       "    </tr>\n",
       "    <tr>\n",
       "      <th>max</th>\n",
       "      <td>779.000000</td>\n",
       "      <td>45.000000</td>\n",
       "      <td>183.000000</td>\n",
       "      <td>4.990000</td>\n",
       "    </tr>\n",
       "  </tbody>\n",
       "</table>\n",
       "</div>"
      ],
      "text/plain": [
       "       Purchase ID         Age     Item ID       Price\n",
       "count   780.000000  780.000000  780.000000  780.000000\n",
       "mean    389.500000   22.714103   91.755128    3.050987\n",
       "std     225.310896    6.659444   52.697702    1.169549\n",
       "min       0.000000    7.000000    0.000000    1.000000\n",
       "25%     194.750000   20.000000   47.750000    1.980000\n",
       "50%     389.500000   22.000000   92.000000    3.150000\n",
       "75%     584.250000   25.000000  138.000000    4.080000\n",
       "max     779.000000   45.000000  183.000000    4.990000"
      ]
     },
     "execution_count": 2,
     "metadata": {},
     "output_type": "execute_result"
    }
   ],
   "source": [
    "#Display a statistical overview of the purchase data.\n",
    "purchase_data_df.describe()"
   ]
  },
  {
   "cell_type": "code",
   "execution_count": 3,
   "metadata": {},
   "outputs": [
    {
     "name": "stdout",
     "output_type": "stream",
     "text": [
      "576\n"
     ]
    },
    {
     "data": {
      "text/plain": [
       "SN\n",
       "Adairialis76     1\n",
       "Adastirin33      1\n",
       "Aeda94           1\n",
       "Aela59           1\n",
       "Aelaria33        1\n",
       "                ..\n",
       "Yathecal82       1\n",
       "Yathedeu43       1\n",
       "Yoishirrala98    1\n",
       "Zhisrisu83       1\n",
       "Zontibe81        1\n",
       "Name: SN, Length: 576, dtype: int64"
      ]
     },
     "execution_count": 3,
     "metadata": {},
     "output_type": "execute_result"
    }
   ],
   "source": [
    "#Total count of players\n",
    "players_df = purchase_data_df.groupby(\"SN\")[\"SN\"].nunique()\n",
    "players_count = players_df.count()\n",
    "print(players_count)\n",
    "players_df"
   ]
  },
  {
   "cell_type": "code",
   "execution_count": 50,
   "metadata": {},
   "outputs": [
    {
     "data": {
      "text/html": [
       "<div>\n",
       "<style scoped>\n",
       "    .dataframe tbody tr th:only-of-type {\n",
       "        vertical-align: middle;\n",
       "    }\n",
       "\n",
       "    .dataframe tbody tr th {\n",
       "        vertical-align: top;\n",
       "    }\n",
       "\n",
       "    .dataframe thead th {\n",
       "        text-align: right;\n",
       "    }\n",
       "</style>\n",
       "<table border=\"1\" class=\"dataframe\">\n",
       "  <thead>\n",
       "    <tr style=\"text-align: right;\">\n",
       "      <th></th>\n",
       "      <th>Total Number of Players</th>\n",
       "    </tr>\n",
       "  </thead>\n",
       "  <tbody>\n",
       "    <tr>\n",
       "      <th>0</th>\n",
       "      <td>576</td>\n",
       "    </tr>\n",
       "  </tbody>\n",
       "</table>\n",
       "</div>"
      ],
      "text/plain": [
       "   Total Number of Players\n",
       "0                      576"
      ]
     },
     "execution_count": 50,
     "metadata": {},
     "output_type": "execute_result"
    }
   ],
   "source": [
    "#Create a table to display Total Number of Players\n",
    "number_of_players = pd.DataFrame({\"Total Number of Players\":[players_count]})\n",
    "number_of_players"
   ]
  },
  {
   "cell_type": "markdown",
   "metadata": {},
   "source": [
    "## Purchasing Analysis (Total)"
   ]
  },
  {
   "cell_type": "markdown",
   "metadata": {},
   "source": [
    "* Run basic calculations to obtain number of unique items, average price, etc.\n",
    "\n",
    "\n",
    "* Create a summary data frame to hold the results\n",
    "\n",
    "\n",
    "* Optional: give the displayed data cleaner formatting\n",
    "\n",
    "\n",
    "* Display the summary data frame\n"
   ]
  },
  {
   "cell_type": "code",
   "execution_count": 5,
   "metadata": {
    "scrolled": true
   },
   "outputs": [
    {
     "data": {
      "text/html": [
       "<div>\n",
       "<style scoped>\n",
       "    .dataframe tbody tr th:only-of-type {\n",
       "        vertical-align: middle;\n",
       "    }\n",
       "\n",
       "    .dataframe tbody tr th {\n",
       "        vertical-align: top;\n",
       "    }\n",
       "\n",
       "    .dataframe thead th {\n",
       "        text-align: right;\n",
       "    }\n",
       "</style>\n",
       "<table border=\"1\" class=\"dataframe\">\n",
       "  <thead>\n",
       "    <tr style=\"text-align: right;\">\n",
       "      <th></th>\n",
       "      <th>Unique Item Count</th>\n",
       "    </tr>\n",
       "  </thead>\n",
       "  <tbody>\n",
       "    <tr>\n",
       "      <th>0</th>\n",
       "      <td>179</td>\n",
       "    </tr>\n",
       "  </tbody>\n",
       "</table>\n",
       "</div>"
      ],
      "text/plain": [
       "   Unique Item Count\n",
       "0                179"
      ]
     },
     "execution_count": 5,
     "metadata": {},
     "output_type": "execute_result"
    }
   ],
   "source": [
    "#Calculate number of unique items\n",
    "unique_items = purchase_data_df.groupby(\"Item Name\")[\"Item Name\"].nunique().count()\n",
    "unique_items\n",
    "\n",
    "unique_items_count = pd.DataFrame({\"Unique Item Count\":[unique_items]})\n",
    "unique_items_count"
   ]
  },
  {
   "cell_type": "code",
   "execution_count": 6,
   "metadata": {},
   "outputs": [
    {
     "data": {
      "text/html": [
       "<style  type=\"text/css\" >\n",
       "</style><table id=\"T_f222dccb_2c3b_11eb_b8c4_089e01cc0b48\" ><thead>    <tr>        <th class=\"blank level0\" ></th>        <th class=\"col_heading level0 col0\" >Average Price</th>    </tr></thead><tbody>\n",
       "                <tr>\n",
       "                        <th id=\"T_f222dccb_2c3b_11eb_b8c4_089e01cc0b48level0_row0\" class=\"row_heading level0 row0\" >0</th>\n",
       "                        <td id=\"T_f222dccb_2c3b_11eb_b8c4_089e01cc0b48row0_col0\" class=\"data row0 col0\" >$3.05</td>\n",
       "            </tr>\n",
       "    </tbody></table>"
      ],
      "text/plain": [
       "<pandas.io.formats.style.Styler at 0x21436810f10>"
      ]
     },
     "execution_count": 6,
     "metadata": {},
     "output_type": "execute_result"
    }
   ],
   "source": [
    "#Calculate average price \n",
    "avg_price_df = round(purchase_data_df[\"Price\"].mean(),2)\n",
    "avg_price_df\n",
    "\n",
    "avg_price = pd.DataFrame({\"Average Price\":[avg_price_df]})\n",
    "avg_price.style.format({\"Average Price\":\"${:,.2f}\"})"
   ]
  },
  {
   "cell_type": "code",
   "execution_count": 7,
   "metadata": {},
   "outputs": [
    {
     "data": {
      "text/html": [
       "<div>\n",
       "<style scoped>\n",
       "    .dataframe tbody tr th:only-of-type {\n",
       "        vertical-align: middle;\n",
       "    }\n",
       "\n",
       "    .dataframe tbody tr th {\n",
       "        vertical-align: top;\n",
       "    }\n",
       "\n",
       "    .dataframe thead th {\n",
       "        text-align: right;\n",
       "    }\n",
       "</style>\n",
       "<table border=\"1\" class=\"dataframe\">\n",
       "  <thead>\n",
       "    <tr style=\"text-align: right;\">\n",
       "      <th></th>\n",
       "      <th>Total Number of Purchases</th>\n",
       "    </tr>\n",
       "  </thead>\n",
       "  <tbody>\n",
       "    <tr>\n",
       "      <th>0</th>\n",
       "      <td>780</td>\n",
       "    </tr>\n",
       "  </tbody>\n",
       "</table>\n",
       "</div>"
      ],
      "text/plain": [
       "   Total Number of Purchases\n",
       "0                        780"
      ]
     },
     "execution_count": 7,
     "metadata": {},
     "output_type": "execute_result"
    }
   ],
   "source": [
    "#Calculate total number of purchases\n",
    "total_purchases = len(purchase_data_df)\n",
    "total_purchases\n",
    "\n",
    "total_amt_of_purchases = pd.DataFrame({\"Total Number of Purchases\":[total_purchases]})\n",
    "total_amt_of_purchases"
   ]
  },
  {
   "cell_type": "code",
   "execution_count": 8,
   "metadata": {},
   "outputs": [
    {
     "data": {
      "text/html": [
       "<style  type=\"text/css\" >\n",
       "</style><table id=\"T_f22ceec6_2c3b_11eb_8569_089e01cc0b48\" ><thead>    <tr>        <th class=\"blank level0\" ></th>        <th class=\"col_heading level0 col0\" >Total Revenue</th>    </tr></thead><tbody>\n",
       "                <tr>\n",
       "                        <th id=\"T_f22ceec6_2c3b_11eb_8569_089e01cc0b48level0_row0\" class=\"row_heading level0 row0\" >0</th>\n",
       "                        <td id=\"T_f22ceec6_2c3b_11eb_8569_089e01cc0b48row0_col0\" class=\"data row0 col0\" >$2,379.77</td>\n",
       "            </tr>\n",
       "    </tbody></table>"
      ],
      "text/plain": [
       "<pandas.io.formats.style.Styler at 0x214378534f0>"
      ]
     },
     "execution_count": 8,
     "metadata": {},
     "output_type": "execute_result"
    }
   ],
   "source": [
    "#Calculate the total revenue\n",
    "revenue = round(purchase_data_df[\"Price\"].sum(),2)\n",
    "revenue\n",
    "\n",
    "total_revenue = pd.DataFrame({\"Total Revenue\":[revenue]})\n",
    "total_revenue.style.format({\"Total Revenue\":\"${:,.2f}\"})"
   ]
  },
  {
   "cell_type": "code",
   "execution_count": 9,
   "metadata": {},
   "outputs": [
    {
     "data": {
      "text/html": [
       "<style  type=\"text/css\" >\n",
       "</style><table id=\"T_f2310d7f_2c3b_11eb_b5d8_089e01cc0b48\" ><thead>    <tr>        <th class=\"blank level0\" ></th>        <th class=\"col_heading level0 col0\" >Number of Unique Items</th>        <th class=\"col_heading level0 col1\" >Average Purchase Price</th>        <th class=\"col_heading level0 col2\" >Total Number of Purchases</th>        <th class=\"col_heading level0 col3\" >Total Revenue</th>    </tr></thead><tbody>\n",
       "                <tr>\n",
       "                        <th id=\"T_f2310d7f_2c3b_11eb_b5d8_089e01cc0b48level0_row0\" class=\"row_heading level0 row0\" >0</th>\n",
       "                        <td id=\"T_f2310d7f_2c3b_11eb_b5d8_089e01cc0b48row0_col0\" class=\"data row0 col0\" >179</td>\n",
       "                        <td id=\"T_f2310d7f_2c3b_11eb_b5d8_089e01cc0b48row0_col1\" class=\"data row0 col1\" >$3.05</td>\n",
       "                        <td id=\"T_f2310d7f_2c3b_11eb_b5d8_089e01cc0b48row0_col2\" class=\"data row0 col2\" >780</td>\n",
       "                        <td id=\"T_f2310d7f_2c3b_11eb_b5d8_089e01cc0b48row0_col3\" class=\"data row0 col3\" >$2,379.77</td>\n",
       "            </tr>\n",
       "    </tbody></table>"
      ],
      "text/plain": [
       "<pandas.io.formats.style.Styler at 0x21437833fd0>"
      ]
     },
     "execution_count": 9,
     "metadata": {},
     "output_type": "execute_result"
    }
   ],
   "source": [
    "#Display summary of Purchasing Analysis\n",
    "summary_df = pd.DataFrame({\"Number of Unique Items\":[unique_items],\n",
    "                          \"Average Purchase Price\":[avg_price_df],\n",
    "                          \"Total Number of Purchases\":[total_purchases],\n",
    "                          \"Total Revenue\":[revenue]})\n",
    "summary_df.style.format({\"Average Purchase Price\":\"${:,.2f}\", \"Total Revenue\":\"${:,.2f}\"})"
   ]
  },
  {
   "cell_type": "markdown",
   "metadata": {},
   "source": [
    "## Gender Demographics"
   ]
  },
  {
   "cell_type": "markdown",
   "metadata": {},
   "source": [
    "* Percentage and Count of Male Players\n",
    "\n",
    "\n",
    "* Percentage and Count of Female Players\n",
    "\n",
    "\n",
    "* Percentage and Count of Other / Non-Disclosed\n",
    "\n",
    "\n"
   ]
  },
  {
   "cell_type": "code",
   "execution_count": 10,
   "metadata": {
    "scrolled": true
   },
   "outputs": [
    {
     "data": {
      "text/plain": [
       "Gender\n",
       "Female                    81\n",
       "Male                     484\n",
       "Other / Non-Disclosed     11\n",
       "Name: SN, dtype: int64"
      ]
     },
     "execution_count": 10,
     "metadata": {},
     "output_type": "execute_result"
    }
   ],
   "source": [
    "#Calculate number of female, male and Other/Non-Disclosed\n",
    "gender_count_df = purchase_data_df.groupby(\"Gender\")[\"SN\"].nunique()\n",
    "gender_count_df"
   ]
  },
  {
   "cell_type": "code",
   "execution_count": 11,
   "metadata": {},
   "outputs": [
    {
     "data": {
      "text/plain": [
       "Gender\n",
       "Female                   0.14\n",
       "Male                     0.84\n",
       "Other / Non-Disclosed    0.02\n",
       "Name: SN, dtype: float64"
      ]
     },
     "execution_count": 11,
     "metadata": {},
     "output_type": "execute_result"
    }
   ],
   "source": [
    "#Gender Percentage Count\n",
    "gender_percentage_df = gender_count_df/players_df.count()\n",
    "gender_percentage_df.round(2)"
   ]
  },
  {
   "cell_type": "code",
   "execution_count": 12,
   "metadata": {},
   "outputs": [
    {
     "data": {
      "text/html": [
       "<style  type=\"text/css\" >\n",
       "</style><table id=\"T_f242394c_2c3b_11eb_9e0a_089e01cc0b48\" ><thead>    <tr>        <th class=\"blank level0\" ></th>        <th class=\"col_heading level0 col0\" >Gender Count</th>        <th class=\"col_heading level0 col1\" >Gender Percentage</th>    </tr>    <tr>        <th class=\"index_name level0\" >Gender</th>        <th class=\"blank\" ></th>        <th class=\"blank\" ></th>    </tr></thead><tbody>\n",
       "                <tr>\n",
       "                        <th id=\"T_f242394c_2c3b_11eb_9e0a_089e01cc0b48level0_row0\" class=\"row_heading level0 row0\" >Male</th>\n",
       "                        <td id=\"T_f242394c_2c3b_11eb_9e0a_089e01cc0b48row0_col0\" class=\"data row0 col0\" >484</td>\n",
       "                        <td id=\"T_f242394c_2c3b_11eb_9e0a_089e01cc0b48row0_col1\" class=\"data row0 col1\" >84.03%</td>\n",
       "            </tr>\n",
       "            <tr>\n",
       "                        <th id=\"T_f242394c_2c3b_11eb_9e0a_089e01cc0b48level0_row1\" class=\"row_heading level0 row1\" >Female</th>\n",
       "                        <td id=\"T_f242394c_2c3b_11eb_9e0a_089e01cc0b48row1_col0\" class=\"data row1 col0\" >81</td>\n",
       "                        <td id=\"T_f242394c_2c3b_11eb_9e0a_089e01cc0b48row1_col1\" class=\"data row1 col1\" >14.06%</td>\n",
       "            </tr>\n",
       "            <tr>\n",
       "                        <th id=\"T_f242394c_2c3b_11eb_9e0a_089e01cc0b48level0_row2\" class=\"row_heading level0 row2\" >Other / Non-Disclosed</th>\n",
       "                        <td id=\"T_f242394c_2c3b_11eb_9e0a_089e01cc0b48row2_col0\" class=\"data row2 col0\" >11</td>\n",
       "                        <td id=\"T_f242394c_2c3b_11eb_9e0a_089e01cc0b48row2_col1\" class=\"data row2 col1\" >1.91%</td>\n",
       "            </tr>\n",
       "    </tbody></table>"
      ],
      "text/plain": [
       "<pandas.io.formats.style.Styler at 0x214378a0610>"
      ]
     },
     "execution_count": 12,
     "metadata": {},
     "output_type": "execute_result"
    }
   ],
   "source": [
    "#Gender demographics DataFrame.\n",
    "gender_demographics_df = pd.DataFrame({\"Gender Count\": gender_count_df,\"Gender Percentage\":gender_percentage_df*100})\n",
    "gender_demographics_df.sort_values([\"Gender Count\"], ascending = False).style.format({\"Gender Percentage\":\"{:.2f}%\"})"
   ]
  },
  {
   "cell_type": "markdown",
   "metadata": {},
   "source": [
    "\n",
    "## Purchasing Analysis (Gender)"
   ]
  },
  {
   "cell_type": "markdown",
   "metadata": {},
   "source": [
    "* Run basic calculations to obtain purchase count, avg. purchase price, avg. purchase total per person etc. by gender\n",
    "\n",
    "\n",
    "\n",
    "\n",
    "* Create a summary data frame to hold the results\n",
    "\n",
    "\n",
    "* Optional: give the displayed data cleaner formatting\n",
    "\n",
    "\n",
    "* Display the summary data frame"
   ]
  },
  {
   "cell_type": "code",
   "execution_count": 13,
   "metadata": {},
   "outputs": [
    {
     "data": {
      "text/plain": [
       "Gender\n",
       "Female                   113\n",
       "Male                     652\n",
       "Other / Non-Disclosed     15\n",
       "Name: Item Name, dtype: int64"
      ]
     },
     "execution_count": 13,
     "metadata": {},
     "output_type": "execute_result"
    }
   ],
   "source": [
    "#Calculate purchases by gender\n",
    "purchase_count_df = purchase_data_df.groupby(\"Gender\")[\"Item Name\"].count()\n",
    "purchase_count_df"
   ]
  },
  {
   "cell_type": "code",
   "execution_count": 14,
   "metadata": {},
   "outputs": [
    {
     "data": {
      "text/plain": [
       "Gender\n",
       "Female                   3.203009\n",
       "Male                     3.017853\n",
       "Other / Non-Disclosed    3.346000\n",
       "Name: Price, dtype: float64"
      ]
     },
     "execution_count": 14,
     "metadata": {},
     "output_type": "execute_result"
    }
   ],
   "source": [
    "#Calculate average price by gender\n",
    "average_df = purchase_data_df.groupby(\"Gender\")[\"Price\"].mean()\n",
    "average_df"
   ]
  },
  {
   "cell_type": "code",
   "execution_count": 15,
   "metadata": {},
   "outputs": [
    {
     "data": {
      "text/plain": [
       "Gender\n",
       "Female                    361.94\n",
       "Male                     1967.64\n",
       "Other / Non-Disclosed      50.19\n",
       "Name: Price, dtype: float64"
      ]
     },
     "execution_count": 15,
     "metadata": {},
     "output_type": "execute_result"
    }
   ],
   "source": [
    "#Calculate total puchase price by gender\n",
    "total_df = purchase_data_df.groupby(\"Gender\")[\"Price\"].sum()\n",
    "total_df"
   ]
  },
  {
   "cell_type": "code",
   "execution_count": 16,
   "metadata": {},
   "outputs": [
    {
     "data": {
      "text/plain": [
       "Gender\n",
       "Female                   4.468395\n",
       "Male                     4.065372\n",
       "Other / Non-Disclosed    4.562727\n",
       "dtype: float64"
      ]
     },
     "execution_count": 16,
     "metadata": {},
     "output_type": "execute_result"
    }
   ],
   "source": [
    "#Calculate average person total per person by gender\n",
    "avg_spent_df = total_df/gender_count_df\n",
    "avg_spent_df"
   ]
  },
  {
   "cell_type": "code",
   "execution_count": 17,
   "metadata": {},
   "outputs": [
    {
     "data": {
      "text/html": [
       "<style  type=\"text/css\" >\n",
       "</style><table id=\"T_f25cc607_2c3b_11eb_9849_089e01cc0b48\" ><thead>    <tr>        <th class=\"blank level0\" ></th>        <th class=\"col_heading level0 col0\" >Purchase Count</th>        <th class=\"col_heading level0 col1\" >Average Purchase Price</th>        <th class=\"col_heading level0 col2\" >Total Purchase Value</th>        <th class=\"col_heading level0 col3\" >Average Spent per Person</th>    </tr>    <tr>        <th class=\"index_name level0\" >Gender</th>        <th class=\"blank\" ></th>        <th class=\"blank\" ></th>        <th class=\"blank\" ></th>        <th class=\"blank\" ></th>    </tr></thead><tbody>\n",
       "                <tr>\n",
       "                        <th id=\"T_f25cc607_2c3b_11eb_9849_089e01cc0b48level0_row0\" class=\"row_heading level0 row0\" >Female</th>\n",
       "                        <td id=\"T_f25cc607_2c3b_11eb_9849_089e01cc0b48row0_col0\" class=\"data row0 col0\" >113</td>\n",
       "                        <td id=\"T_f25cc607_2c3b_11eb_9849_089e01cc0b48row0_col1\" class=\"data row0 col1\" >$3.20</td>\n",
       "                        <td id=\"T_f25cc607_2c3b_11eb_9849_089e01cc0b48row0_col2\" class=\"data row0 col2\" >$361.94</td>\n",
       "                        <td id=\"T_f25cc607_2c3b_11eb_9849_089e01cc0b48row0_col3\" class=\"data row0 col3\" >$4.47</td>\n",
       "            </tr>\n",
       "            <tr>\n",
       "                        <th id=\"T_f25cc607_2c3b_11eb_9849_089e01cc0b48level0_row1\" class=\"row_heading level0 row1\" >Male</th>\n",
       "                        <td id=\"T_f25cc607_2c3b_11eb_9849_089e01cc0b48row1_col0\" class=\"data row1 col0\" >652</td>\n",
       "                        <td id=\"T_f25cc607_2c3b_11eb_9849_089e01cc0b48row1_col1\" class=\"data row1 col1\" >$3.02</td>\n",
       "                        <td id=\"T_f25cc607_2c3b_11eb_9849_089e01cc0b48row1_col2\" class=\"data row1 col2\" >$1,967.64</td>\n",
       "                        <td id=\"T_f25cc607_2c3b_11eb_9849_089e01cc0b48row1_col3\" class=\"data row1 col3\" >$4.07</td>\n",
       "            </tr>\n",
       "            <tr>\n",
       "                        <th id=\"T_f25cc607_2c3b_11eb_9849_089e01cc0b48level0_row2\" class=\"row_heading level0 row2\" >Other / Non-Disclosed</th>\n",
       "                        <td id=\"T_f25cc607_2c3b_11eb_9849_089e01cc0b48row2_col0\" class=\"data row2 col0\" >15</td>\n",
       "                        <td id=\"T_f25cc607_2c3b_11eb_9849_089e01cc0b48row2_col1\" class=\"data row2 col1\" >$3.35</td>\n",
       "                        <td id=\"T_f25cc607_2c3b_11eb_9849_089e01cc0b48row2_col2\" class=\"data row2 col2\" >$50.19</td>\n",
       "                        <td id=\"T_f25cc607_2c3b_11eb_9849_089e01cc0b48row2_col3\" class=\"data row2 col3\" >$4.56</td>\n",
       "            </tr>\n",
       "    </tbody></table>"
      ],
      "text/plain": [
       "<pandas.io.formats.style.Styler at 0x214378b3490>"
      ]
     },
     "execution_count": 17,
     "metadata": {},
     "output_type": "execute_result"
    }
   ],
   "source": [
    "#Display summary of Purchasing Analysis by Gender\n",
    "gender_analysis_df = pd.DataFrame({\"Purchase Count\":purchase_count_df,\n",
    "                                  \"Average Purchase Price\":average_df,\n",
    "                                  \"Total Purchase Value\":total_df,\n",
    "                                  \"Average Spent per Person\":avg_spent_df})\n",
    "gender_analysis_df.style.format({\"Average Purchase Price\":\"${:,.2f}\", \"Total Purchase Value\":\"${:,.2f}\", \"Average Spent per Person\":\"${:,.2f}\"})"
   ]
  },
  {
   "cell_type": "markdown",
   "metadata": {},
   "source": [
    "## Age Demographics"
   ]
  },
  {
   "cell_type": "markdown",
   "metadata": {},
   "source": [
    "* Establish bins for ages\n",
    "\n",
    "\n",
    "* Categorize the existing players using the age bins. Hint: use pd.cut()\n",
    "\n",
    "\n",
    "* Calculate the numbers and percentages by age group\n",
    "\n",
    "\n",
    "* Create a summary data frame to hold the results\n",
    "\n",
    "\n",
    "* Optional: round the percentage column to two decimal points\n",
    "\n",
    "\n",
    "* Display Age Demographics Table\n"
   ]
  },
  {
   "cell_type": "code",
   "execution_count": 18,
   "metadata": {},
   "outputs": [
    {
     "data": {
      "text/html": [
       "<div>\n",
       "<style scoped>\n",
       "    .dataframe tbody tr th:only-of-type {\n",
       "        vertical-align: middle;\n",
       "    }\n",
       "\n",
       "    .dataframe tbody tr th {\n",
       "        vertical-align: top;\n",
       "    }\n",
       "\n",
       "    .dataframe thead th {\n",
       "        text-align: right;\n",
       "    }\n",
       "</style>\n",
       "<table border=\"1\" class=\"dataframe\">\n",
       "  <thead>\n",
       "    <tr style=\"text-align: right;\">\n",
       "      <th></th>\n",
       "      <th>SN</th>\n",
       "      <th>Age</th>\n",
       "      <th>Gender</th>\n",
       "    </tr>\n",
       "  </thead>\n",
       "  <tbody>\n",
       "    <tr>\n",
       "      <th>0</th>\n",
       "      <td>Lisim78</td>\n",
       "      <td>20</td>\n",
       "      <td>Male</td>\n",
       "    </tr>\n",
       "    <tr>\n",
       "      <th>1</th>\n",
       "      <td>Lisovynya38</td>\n",
       "      <td>40</td>\n",
       "      <td>Male</td>\n",
       "    </tr>\n",
       "    <tr>\n",
       "      <th>2</th>\n",
       "      <td>Ithergue48</td>\n",
       "      <td>24</td>\n",
       "      <td>Male</td>\n",
       "    </tr>\n",
       "    <tr>\n",
       "      <th>3</th>\n",
       "      <td>Chamassasya86</td>\n",
       "      <td>24</td>\n",
       "      <td>Male</td>\n",
       "    </tr>\n",
       "    <tr>\n",
       "      <th>4</th>\n",
       "      <td>Iskosia90</td>\n",
       "      <td>23</td>\n",
       "      <td>Male</td>\n",
       "    </tr>\n",
       "    <tr>\n",
       "      <th>...</th>\n",
       "      <td>...</td>\n",
       "      <td>...</td>\n",
       "      <td>...</td>\n",
       "    </tr>\n",
       "    <tr>\n",
       "      <th>773</th>\n",
       "      <td>Hala31</td>\n",
       "      <td>21</td>\n",
       "      <td>Male</td>\n",
       "    </tr>\n",
       "    <tr>\n",
       "      <th>774</th>\n",
       "      <td>Jiskjask80</td>\n",
       "      <td>11</td>\n",
       "      <td>Male</td>\n",
       "    </tr>\n",
       "    <tr>\n",
       "      <th>775</th>\n",
       "      <td>Aethedru70</td>\n",
       "      <td>21</td>\n",
       "      <td>Female</td>\n",
       "    </tr>\n",
       "    <tr>\n",
       "      <th>777</th>\n",
       "      <td>Yathecal72</td>\n",
       "      <td>20</td>\n",
       "      <td>Male</td>\n",
       "    </tr>\n",
       "    <tr>\n",
       "      <th>778</th>\n",
       "      <td>Sisur91</td>\n",
       "      <td>7</td>\n",
       "      <td>Male</td>\n",
       "    </tr>\n",
       "  </tbody>\n",
       "</table>\n",
       "<p>576 rows × 3 columns</p>\n",
       "</div>"
      ],
      "text/plain": [
       "                SN  Age  Gender\n",
       "0          Lisim78   20    Male\n",
       "1      Lisovynya38   40    Male\n",
       "2       Ithergue48   24    Male\n",
       "3    Chamassasya86   24    Male\n",
       "4        Iskosia90   23    Male\n",
       "..             ...  ...     ...\n",
       "773         Hala31   21    Male\n",
       "774     Jiskjask80   11    Male\n",
       "775     Aethedru70   21  Female\n",
       "777     Yathecal72   20    Male\n",
       "778        Sisur91    7    Male\n",
       "\n",
       "[576 rows x 3 columns]"
      ]
     },
     "execution_count": 18,
     "metadata": {},
     "output_type": "execute_result"
    }
   ],
   "source": [
    "nonduplicates_df = purchase_data_df.loc[:,[\"SN\", \"Age\", \"Gender\"]].drop_duplicates()\n",
    "nonduplicates_df"
   ]
  },
  {
   "cell_type": "code",
   "execution_count": 19,
   "metadata": {},
   "outputs": [],
   "source": [
    "#Create bins in which to place values based on Age\n",
    "bins = [0,9,14,19,24,29,34,39,44]\n",
    "age_range_labels = [\"<10\", \"10-14\", \"15-19\", \"20-24\", \"25-29\", \"30-34\", \"35-39\", \">=40\"]"
   ]
  },
  {
   "cell_type": "code",
   "execution_count": 20,
   "metadata": {
    "scrolled": false
   },
   "outputs": [
    {
     "data": {
      "text/plain": [
       "0      20-24\n",
       "1       >=40\n",
       "2      20-24\n",
       "3      20-24\n",
       "4      20-24\n",
       "       ...  \n",
       "773    20-24\n",
       "774    10-14\n",
       "775    20-24\n",
       "777    20-24\n",
       "778      <10\n",
       "Name: Age, Length: 576, dtype: category\n",
       "Categories (8, object): [<10 < 10-14 < 15-19 < 20-24 < 25-29 < 30-34 < 35-39 < >=40]"
      ]
     },
     "execution_count": 20,
     "metadata": {},
     "output_type": "execute_result"
    }
   ],
   "source": [
    "#Slice the data and place it into bins\n",
    "pd.cut(nonduplicates_df[\"Age\"], bins, labels=age_range_labels)"
   ]
  },
  {
   "cell_type": "code",
   "execution_count": 21,
   "metadata": {},
   "outputs": [
    {
     "data": {
      "text/html": [
       "<div>\n",
       "<style scoped>\n",
       "    .dataframe tbody tr th:only-of-type {\n",
       "        vertical-align: middle;\n",
       "    }\n",
       "\n",
       "    .dataframe tbody tr th {\n",
       "        vertical-align: top;\n",
       "    }\n",
       "\n",
       "    .dataframe thead th {\n",
       "        text-align: right;\n",
       "    }\n",
       "</style>\n",
       "<table border=\"1\" class=\"dataframe\">\n",
       "  <thead>\n",
       "    <tr style=\"text-align: right;\">\n",
       "      <th></th>\n",
       "      <th>SN</th>\n",
       "      <th>Age</th>\n",
       "      <th>Gender</th>\n",
       "      <th>Age Range</th>\n",
       "    </tr>\n",
       "  </thead>\n",
       "  <tbody>\n",
       "    <tr>\n",
       "      <th>0</th>\n",
       "      <td>Lisim78</td>\n",
       "      <td>20</td>\n",
       "      <td>Male</td>\n",
       "      <td>20-24</td>\n",
       "    </tr>\n",
       "    <tr>\n",
       "      <th>1</th>\n",
       "      <td>Lisovynya38</td>\n",
       "      <td>40</td>\n",
       "      <td>Male</td>\n",
       "      <td>&gt;=40</td>\n",
       "    </tr>\n",
       "    <tr>\n",
       "      <th>2</th>\n",
       "      <td>Ithergue48</td>\n",
       "      <td>24</td>\n",
       "      <td>Male</td>\n",
       "      <td>20-24</td>\n",
       "    </tr>\n",
       "    <tr>\n",
       "      <th>3</th>\n",
       "      <td>Chamassasya86</td>\n",
       "      <td>24</td>\n",
       "      <td>Male</td>\n",
       "      <td>20-24</td>\n",
       "    </tr>\n",
       "    <tr>\n",
       "      <th>4</th>\n",
       "      <td>Iskosia90</td>\n",
       "      <td>23</td>\n",
       "      <td>Male</td>\n",
       "      <td>20-24</td>\n",
       "    </tr>\n",
       "  </tbody>\n",
       "</table>\n",
       "</div>"
      ],
      "text/plain": [
       "              SN  Age Gender Age Range\n",
       "0        Lisim78   20   Male     20-24\n",
       "1    Lisovynya38   40   Male      >=40\n",
       "2     Ithergue48   24   Male     20-24\n",
       "3  Chamassasya86   24   Male     20-24\n",
       "4      Iskosia90   23   Male     20-24"
      ]
     },
     "execution_count": 21,
     "metadata": {},
     "output_type": "execute_result"
    }
   ],
   "source": [
    "#Place the data series into a new column inside of the DataFrame\n",
    "nonduplicates_df[\"Age Range\"] = pd.cut(nonduplicates_df[\"Age\"], bins, labels= age_range_labels)\n",
    "nonduplicates_df.head()"
   ]
  },
  {
   "cell_type": "code",
   "execution_count": 22,
   "metadata": {
    "scrolled": true
   },
   "outputs": [
    {
     "data": {
      "text/plain": [
       "Age Range\n",
       "<10       17\n",
       "10-14     22\n",
       "15-19    107\n",
       "20-24    258\n",
       "25-29     77\n",
       "30-34     52\n",
       "35-39     31\n",
       ">=40      11\n",
       "Name: Age, dtype: int64"
      ]
     },
     "execution_count": 22,
     "metadata": {},
     "output_type": "execute_result"
    }
   ],
   "source": [
    "#Calculate number of people in each age range\n",
    "age_range_count_df = nonduplicates_df.groupby(\"Age Range\").count()\n",
    "age_range_count_sr = age_range_count_df[\"Age\"]\n",
    "age_range_count_sr"
   ]
  },
  {
   "cell_type": "code",
   "execution_count": 23,
   "metadata": {},
   "outputs": [
    {
     "data": {
      "text/plain": [
       "Age Range\n",
       "<10       3.0\n",
       "10-14     4.0\n",
       "15-19    19.0\n",
       "20-24    45.0\n",
       "25-29    13.0\n",
       "30-34     9.0\n",
       "35-39     5.0\n",
       ">=40      2.0\n",
       "Name: SN, dtype: float64"
      ]
     },
     "execution_count": 23,
     "metadata": {},
     "output_type": "execute_result"
    }
   ],
   "source": [
    "#Gender Percentage Count\n",
    "age_range_percentage_df = round(age_range_count_df[\"SN\"]/576,2)*100\n",
    "age_range_percentage_df"
   ]
  },
  {
   "cell_type": "code",
   "execution_count": 24,
   "metadata": {
    "scrolled": false
   },
   "outputs": [
    {
     "data": {
      "text/html": [
       "<style  type=\"text/css\" >\n",
       "</style><table id=\"T_f284e756_2c3b_11eb_84b7_089e01cc0b48\" ><thead>    <tr>        <th class=\"blank level0\" ></th>        <th class=\"col_heading level0 col0\" >Age Range Count</th>        <th class=\"col_heading level0 col1\" >Age Range Percentage</th>    </tr>    <tr>        <th class=\"index_name level0\" >Age Range</th>        <th class=\"blank\" ></th>        <th class=\"blank\" ></th>    </tr></thead><tbody>\n",
       "                <tr>\n",
       "                        <th id=\"T_f284e756_2c3b_11eb_84b7_089e01cc0b48level0_row0\" class=\"row_heading level0 row0\" ><10</th>\n",
       "                        <td id=\"T_f284e756_2c3b_11eb_84b7_089e01cc0b48row0_col0\" class=\"data row0 col0\" >17</td>\n",
       "                        <td id=\"T_f284e756_2c3b_11eb_84b7_089e01cc0b48row0_col1\" class=\"data row0 col1\" >3.00%</td>\n",
       "            </tr>\n",
       "            <tr>\n",
       "                        <th id=\"T_f284e756_2c3b_11eb_84b7_089e01cc0b48level0_row1\" class=\"row_heading level0 row1\" >10-14</th>\n",
       "                        <td id=\"T_f284e756_2c3b_11eb_84b7_089e01cc0b48row1_col0\" class=\"data row1 col0\" >22</td>\n",
       "                        <td id=\"T_f284e756_2c3b_11eb_84b7_089e01cc0b48row1_col1\" class=\"data row1 col1\" >4.00%</td>\n",
       "            </tr>\n",
       "            <tr>\n",
       "                        <th id=\"T_f284e756_2c3b_11eb_84b7_089e01cc0b48level0_row2\" class=\"row_heading level0 row2\" >15-19</th>\n",
       "                        <td id=\"T_f284e756_2c3b_11eb_84b7_089e01cc0b48row2_col0\" class=\"data row2 col0\" >107</td>\n",
       "                        <td id=\"T_f284e756_2c3b_11eb_84b7_089e01cc0b48row2_col1\" class=\"data row2 col1\" >19.00%</td>\n",
       "            </tr>\n",
       "            <tr>\n",
       "                        <th id=\"T_f284e756_2c3b_11eb_84b7_089e01cc0b48level0_row3\" class=\"row_heading level0 row3\" >20-24</th>\n",
       "                        <td id=\"T_f284e756_2c3b_11eb_84b7_089e01cc0b48row3_col0\" class=\"data row3 col0\" >258</td>\n",
       "                        <td id=\"T_f284e756_2c3b_11eb_84b7_089e01cc0b48row3_col1\" class=\"data row3 col1\" >45.00%</td>\n",
       "            </tr>\n",
       "            <tr>\n",
       "                        <th id=\"T_f284e756_2c3b_11eb_84b7_089e01cc0b48level0_row4\" class=\"row_heading level0 row4\" >25-29</th>\n",
       "                        <td id=\"T_f284e756_2c3b_11eb_84b7_089e01cc0b48row4_col0\" class=\"data row4 col0\" >77</td>\n",
       "                        <td id=\"T_f284e756_2c3b_11eb_84b7_089e01cc0b48row4_col1\" class=\"data row4 col1\" >13.00%</td>\n",
       "            </tr>\n",
       "            <tr>\n",
       "                        <th id=\"T_f284e756_2c3b_11eb_84b7_089e01cc0b48level0_row5\" class=\"row_heading level0 row5\" >30-34</th>\n",
       "                        <td id=\"T_f284e756_2c3b_11eb_84b7_089e01cc0b48row5_col0\" class=\"data row5 col0\" >52</td>\n",
       "                        <td id=\"T_f284e756_2c3b_11eb_84b7_089e01cc0b48row5_col1\" class=\"data row5 col1\" >9.00%</td>\n",
       "            </tr>\n",
       "            <tr>\n",
       "                        <th id=\"T_f284e756_2c3b_11eb_84b7_089e01cc0b48level0_row6\" class=\"row_heading level0 row6\" >35-39</th>\n",
       "                        <td id=\"T_f284e756_2c3b_11eb_84b7_089e01cc0b48row6_col0\" class=\"data row6 col0\" >31</td>\n",
       "                        <td id=\"T_f284e756_2c3b_11eb_84b7_089e01cc0b48row6_col1\" class=\"data row6 col1\" >5.00%</td>\n",
       "            </tr>\n",
       "            <tr>\n",
       "                        <th id=\"T_f284e756_2c3b_11eb_84b7_089e01cc0b48level0_row7\" class=\"row_heading level0 row7\" >>=40</th>\n",
       "                        <td id=\"T_f284e756_2c3b_11eb_84b7_089e01cc0b48row7_col0\" class=\"data row7 col0\" >11</td>\n",
       "                        <td id=\"T_f284e756_2c3b_11eb_84b7_089e01cc0b48row7_col1\" class=\"data row7 col1\" >2.00%</td>\n",
       "            </tr>\n",
       "    </tbody></table>"
      ],
      "text/plain": [
       "<pandas.io.formats.style.Styler at 0x214378a07c0>"
      ]
     },
     "execution_count": 24,
     "metadata": {},
     "output_type": "execute_result"
    }
   ],
   "source": [
    "#Age Range demographics DataFrame.\n",
    "gender_demographics_df = pd.DataFrame({\"Age Range Count\": age_range_count_sr,\n",
    "                                       \"Age Range Percentage\":age_range_percentage_df})\n",
    "gender_demographics_df.style.format({\"Age Range Percentage\":\"{:.2f}%\"})"
   ]
  },
  {
   "cell_type": "markdown",
   "metadata": {},
   "source": [
    "## Purchasing Analysis (Age)"
   ]
  },
  {
   "cell_type": "markdown",
   "metadata": {},
   "source": [
    "* Bin the purchase_data data frame by age\n",
    "\n",
    "\n",
    "* Run basic calculations to obtain purchase count, avg. purchase price, avg. purchase total per person etc. in the table below\n",
    "\n",
    "\n",
    "* Create a summary data frame to hold the results\n",
    "\n",
    "\n",
    "* Optional: give the displayed data cleaner formatting\n",
    "\n",
    "\n",
    "* Display the summary data frame"
   ]
  },
  {
   "cell_type": "code",
   "execution_count": 25,
   "metadata": {},
   "outputs": [],
   "source": [
    "#Create bins in which to place values based on Age\n",
    "bins = [0,9,14,19,24,29,34,39,44]\n",
    "age_range_labels = [\"<10\", \"10-14\", \"15-19\", \"20-24\", \"25-29\", \"30-34\", \"35-39\", \">=40\"]"
   ]
  },
  {
   "cell_type": "code",
   "execution_count": 26,
   "metadata": {},
   "outputs": [
    {
     "data": {
      "text/plain": [
       "0      20-24\n",
       "1       >=40\n",
       "2      20-24\n",
       "3      20-24\n",
       "4      20-24\n",
       "       ...  \n",
       "775    20-24\n",
       "776    20-24\n",
       "777    20-24\n",
       "778      <10\n",
       "779    20-24\n",
       "Name: Age, Length: 780, dtype: category\n",
       "Categories (8, object): [<10 < 10-14 < 15-19 < 20-24 < 25-29 < 30-34 < 35-39 < >=40]"
      ]
     },
     "execution_count": 26,
     "metadata": {},
     "output_type": "execute_result"
    }
   ],
   "source": [
    "#Slice the data and place it into bins\n",
    "pd.cut(purchase_data_df[\"Age\"], bins, labels=age_range_labels)"
   ]
  },
  {
   "cell_type": "code",
   "execution_count": 27,
   "metadata": {},
   "outputs": [
    {
     "data": {
      "text/html": [
       "<div>\n",
       "<style scoped>\n",
       "    .dataframe tbody tr th:only-of-type {\n",
       "        vertical-align: middle;\n",
       "    }\n",
       "\n",
       "    .dataframe tbody tr th {\n",
       "        vertical-align: top;\n",
       "    }\n",
       "\n",
       "    .dataframe thead th {\n",
       "        text-align: right;\n",
       "    }\n",
       "</style>\n",
       "<table border=\"1\" class=\"dataframe\">\n",
       "  <thead>\n",
       "    <tr style=\"text-align: right;\">\n",
       "      <th></th>\n",
       "      <th>Purchase ID</th>\n",
       "      <th>SN</th>\n",
       "      <th>Age</th>\n",
       "      <th>Gender</th>\n",
       "      <th>Item ID</th>\n",
       "      <th>Item Name</th>\n",
       "      <th>Price</th>\n",
       "      <th>Age Range</th>\n",
       "    </tr>\n",
       "  </thead>\n",
       "  <tbody>\n",
       "    <tr>\n",
       "      <th>0</th>\n",
       "      <td>0</td>\n",
       "      <td>Lisim78</td>\n",
       "      <td>20</td>\n",
       "      <td>Male</td>\n",
       "      <td>108</td>\n",
       "      <td>Extraction, Quickblade Of Trembling Hands</td>\n",
       "      <td>3.53</td>\n",
       "      <td>20-24</td>\n",
       "    </tr>\n",
       "    <tr>\n",
       "      <th>1</th>\n",
       "      <td>1</td>\n",
       "      <td>Lisovynya38</td>\n",
       "      <td>40</td>\n",
       "      <td>Male</td>\n",
       "      <td>143</td>\n",
       "      <td>Frenzied Scimitar</td>\n",
       "      <td>1.56</td>\n",
       "      <td>&gt;=40</td>\n",
       "    </tr>\n",
       "    <tr>\n",
       "      <th>2</th>\n",
       "      <td>2</td>\n",
       "      <td>Ithergue48</td>\n",
       "      <td>24</td>\n",
       "      <td>Male</td>\n",
       "      <td>92</td>\n",
       "      <td>Final Critic</td>\n",
       "      <td>4.88</td>\n",
       "      <td>20-24</td>\n",
       "    </tr>\n",
       "    <tr>\n",
       "      <th>3</th>\n",
       "      <td>3</td>\n",
       "      <td>Chamassasya86</td>\n",
       "      <td>24</td>\n",
       "      <td>Male</td>\n",
       "      <td>100</td>\n",
       "      <td>Blindscythe</td>\n",
       "      <td>3.27</td>\n",
       "      <td>20-24</td>\n",
       "    </tr>\n",
       "    <tr>\n",
       "      <th>4</th>\n",
       "      <td>4</td>\n",
       "      <td>Iskosia90</td>\n",
       "      <td>23</td>\n",
       "      <td>Male</td>\n",
       "      <td>131</td>\n",
       "      <td>Fury</td>\n",
       "      <td>1.44</td>\n",
       "      <td>20-24</td>\n",
       "    </tr>\n",
       "  </tbody>\n",
       "</table>\n",
       "</div>"
      ],
      "text/plain": [
       "   Purchase ID             SN  Age Gender  Item ID  \\\n",
       "0            0        Lisim78   20   Male      108   \n",
       "1            1    Lisovynya38   40   Male      143   \n",
       "2            2     Ithergue48   24   Male       92   \n",
       "3            3  Chamassasya86   24   Male      100   \n",
       "4            4      Iskosia90   23   Male      131   \n",
       "\n",
       "                                   Item Name  Price Age Range  \n",
       "0  Extraction, Quickblade Of Trembling Hands   3.53     20-24  \n",
       "1                          Frenzied Scimitar   1.56      >=40  \n",
       "2                               Final Critic   4.88     20-24  \n",
       "3                                Blindscythe   3.27     20-24  \n",
       "4                                       Fury   1.44     20-24  "
      ]
     },
     "execution_count": 27,
     "metadata": {},
     "output_type": "execute_result"
    }
   ],
   "source": [
    "#Place the data series into a new column inside of the DataFrame\n",
    "purchase_data_df[\"Age Range\"] = pd.cut(purchase_data_df[\"Age\"], bins, labels= age_range_labels)\n",
    "purchase_data_df.head()"
   ]
  },
  {
   "cell_type": "code",
   "execution_count": 28,
   "metadata": {},
   "outputs": [
    {
     "data": {
      "text/plain": [
       "Age Range\n",
       "<10      3.35\n",
       "10-14    2.96\n",
       "15-19    3.04\n",
       "20-24    3.05\n",
       "25-29    2.90\n",
       "30-34    2.93\n",
       "35-39    3.60\n",
       ">=40     3.04\n",
       "Name: Price, dtype: float64"
      ]
     },
     "execution_count": 28,
     "metadata": {},
     "output_type": "execute_result"
    }
   ],
   "source": [
    "#Calculate Average Purchase per age range\n",
    "avg_purchase_age_range_df = round(purchase_data_df.groupby(\"Age Range\")[\"Price\"].mean(),2)\n",
    "avg_purchase_age_range_df"
   ]
  },
  {
   "cell_type": "code",
   "execution_count": 29,
   "metadata": {},
   "outputs": [
    {
     "data": {
      "text/plain": [
       "Age Range\n",
       "<10        77.13\n",
       "10-14      82.78\n",
       "15-19     412.89\n",
       "20-24    1114.06\n",
       "25-29     293.00\n",
       "30-34     214.00\n",
       "35-39     147.67\n",
       ">=40       36.54\n",
       "Name: Price, dtype: float64"
      ]
     },
     "execution_count": 29,
     "metadata": {},
     "output_type": "execute_result"
    }
   ],
   "source": [
    "#Calculate Total Purchases per age range\n",
    "total_purchase_value_df = round(purchase_data_df.groupby(\"Age Range\")[\"Price\"].sum(),2)\n",
    "total_purchase_value_df"
   ]
  },
  {
   "cell_type": "code",
   "execution_count": 30,
   "metadata": {},
   "outputs": [
    {
     "data": {
      "text/plain": [
       "Age Range\n",
       "<10      3.35\n",
       "10-14    2.96\n",
       "15-19    3.04\n",
       "20-24    3.05\n",
       "25-29    2.90\n",
       "30-34    2.93\n",
       "35-39    3.60\n",
       ">=40     3.04\n",
       "Name: Price, dtype: float64"
      ]
     },
     "execution_count": 30,
     "metadata": {},
     "output_type": "execute_result"
    }
   ],
   "source": [
    "#Calculate Average Purchase per age range\n",
    "avg_purchase_total_df = round(purchase_data_df.groupby([\"Age Range\"])[\"Price\"].mean(),2)\n",
    "avg_purchase_nona = avg_purchase_total_df.dropna()\n",
    "avg_purchase_nona"
   ]
  },
  {
   "cell_type": "code",
   "execution_count": 31,
   "metadata": {},
   "outputs": [
    {
     "data": {
      "text/html": [
       "<style  type=\"text/css\" >\n",
       "</style><table id=\"T_f2ac1e64_2c3b_11eb_9b15_089e01cc0b48\" ><thead>    <tr>        <th class=\"blank level0\" ></th>        <th class=\"col_heading level0 col0\" >Purchase Count</th>        <th class=\"col_heading level0 col1\" >Average Purchase Price</th>        <th class=\"col_heading level0 col2\" >Total Purchase Value</th>        <th class=\"col_heading level0 col3\" >Average Spent per Person</th>    </tr>    <tr>        <th class=\"index_name level0\" >Age Range</th>        <th class=\"blank\" ></th>        <th class=\"blank\" ></th>        <th class=\"blank\" ></th>        <th class=\"blank\" ></th>    </tr></thead><tbody>\n",
       "                <tr>\n",
       "                        <th id=\"T_f2ac1e64_2c3b_11eb_9b15_089e01cc0b48level0_row0\" class=\"row_heading level0 row0\" ><10</th>\n",
       "                        <td id=\"T_f2ac1e64_2c3b_11eb_9b15_089e01cc0b48row0_col0\" class=\"data row0 col0\" >17</td>\n",
       "                        <td id=\"T_f2ac1e64_2c3b_11eb_9b15_089e01cc0b48row0_col1\" class=\"data row0 col1\" >$3.35</td>\n",
       "                        <td id=\"T_f2ac1e64_2c3b_11eb_9b15_089e01cc0b48row0_col2\" class=\"data row0 col2\" >$77.13</td>\n",
       "                        <td id=\"T_f2ac1e64_2c3b_11eb_9b15_089e01cc0b48row0_col3\" class=\"data row0 col3\" >$3.35</td>\n",
       "            </tr>\n",
       "            <tr>\n",
       "                        <th id=\"T_f2ac1e64_2c3b_11eb_9b15_089e01cc0b48level0_row1\" class=\"row_heading level0 row1\" >10-14</th>\n",
       "                        <td id=\"T_f2ac1e64_2c3b_11eb_9b15_089e01cc0b48row1_col0\" class=\"data row1 col0\" >22</td>\n",
       "                        <td id=\"T_f2ac1e64_2c3b_11eb_9b15_089e01cc0b48row1_col1\" class=\"data row1 col1\" >$2.96</td>\n",
       "                        <td id=\"T_f2ac1e64_2c3b_11eb_9b15_089e01cc0b48row1_col2\" class=\"data row1 col2\" >$82.78</td>\n",
       "                        <td id=\"T_f2ac1e64_2c3b_11eb_9b15_089e01cc0b48row1_col3\" class=\"data row1 col3\" >$2.96</td>\n",
       "            </tr>\n",
       "            <tr>\n",
       "                        <th id=\"T_f2ac1e64_2c3b_11eb_9b15_089e01cc0b48level0_row2\" class=\"row_heading level0 row2\" >15-19</th>\n",
       "                        <td id=\"T_f2ac1e64_2c3b_11eb_9b15_089e01cc0b48row2_col0\" class=\"data row2 col0\" >107</td>\n",
       "                        <td id=\"T_f2ac1e64_2c3b_11eb_9b15_089e01cc0b48row2_col1\" class=\"data row2 col1\" >$3.04</td>\n",
       "                        <td id=\"T_f2ac1e64_2c3b_11eb_9b15_089e01cc0b48row2_col2\" class=\"data row2 col2\" >$412.89</td>\n",
       "                        <td id=\"T_f2ac1e64_2c3b_11eb_9b15_089e01cc0b48row2_col3\" class=\"data row2 col3\" >$3.04</td>\n",
       "            </tr>\n",
       "            <tr>\n",
       "                        <th id=\"T_f2ac1e64_2c3b_11eb_9b15_089e01cc0b48level0_row3\" class=\"row_heading level0 row3\" >20-24</th>\n",
       "                        <td id=\"T_f2ac1e64_2c3b_11eb_9b15_089e01cc0b48row3_col0\" class=\"data row3 col0\" >258</td>\n",
       "                        <td id=\"T_f2ac1e64_2c3b_11eb_9b15_089e01cc0b48row3_col1\" class=\"data row3 col1\" >$3.05</td>\n",
       "                        <td id=\"T_f2ac1e64_2c3b_11eb_9b15_089e01cc0b48row3_col2\" class=\"data row3 col2\" >$1,114.06</td>\n",
       "                        <td id=\"T_f2ac1e64_2c3b_11eb_9b15_089e01cc0b48row3_col3\" class=\"data row3 col3\" >$3.05</td>\n",
       "            </tr>\n",
       "            <tr>\n",
       "                        <th id=\"T_f2ac1e64_2c3b_11eb_9b15_089e01cc0b48level0_row4\" class=\"row_heading level0 row4\" >25-29</th>\n",
       "                        <td id=\"T_f2ac1e64_2c3b_11eb_9b15_089e01cc0b48row4_col0\" class=\"data row4 col0\" >77</td>\n",
       "                        <td id=\"T_f2ac1e64_2c3b_11eb_9b15_089e01cc0b48row4_col1\" class=\"data row4 col1\" >$2.90</td>\n",
       "                        <td id=\"T_f2ac1e64_2c3b_11eb_9b15_089e01cc0b48row4_col2\" class=\"data row4 col2\" >$293.00</td>\n",
       "                        <td id=\"T_f2ac1e64_2c3b_11eb_9b15_089e01cc0b48row4_col3\" class=\"data row4 col3\" >$2.90</td>\n",
       "            </tr>\n",
       "            <tr>\n",
       "                        <th id=\"T_f2ac1e64_2c3b_11eb_9b15_089e01cc0b48level0_row5\" class=\"row_heading level0 row5\" >30-34</th>\n",
       "                        <td id=\"T_f2ac1e64_2c3b_11eb_9b15_089e01cc0b48row5_col0\" class=\"data row5 col0\" >52</td>\n",
       "                        <td id=\"T_f2ac1e64_2c3b_11eb_9b15_089e01cc0b48row5_col1\" class=\"data row5 col1\" >$2.93</td>\n",
       "                        <td id=\"T_f2ac1e64_2c3b_11eb_9b15_089e01cc0b48row5_col2\" class=\"data row5 col2\" >$214.00</td>\n",
       "                        <td id=\"T_f2ac1e64_2c3b_11eb_9b15_089e01cc0b48row5_col3\" class=\"data row5 col3\" >$2.93</td>\n",
       "            </tr>\n",
       "            <tr>\n",
       "                        <th id=\"T_f2ac1e64_2c3b_11eb_9b15_089e01cc0b48level0_row6\" class=\"row_heading level0 row6\" >35-39</th>\n",
       "                        <td id=\"T_f2ac1e64_2c3b_11eb_9b15_089e01cc0b48row6_col0\" class=\"data row6 col0\" >31</td>\n",
       "                        <td id=\"T_f2ac1e64_2c3b_11eb_9b15_089e01cc0b48row6_col1\" class=\"data row6 col1\" >$3.60</td>\n",
       "                        <td id=\"T_f2ac1e64_2c3b_11eb_9b15_089e01cc0b48row6_col2\" class=\"data row6 col2\" >$147.67</td>\n",
       "                        <td id=\"T_f2ac1e64_2c3b_11eb_9b15_089e01cc0b48row6_col3\" class=\"data row6 col3\" >$3.60</td>\n",
       "            </tr>\n",
       "            <tr>\n",
       "                        <th id=\"T_f2ac1e64_2c3b_11eb_9b15_089e01cc0b48level0_row7\" class=\"row_heading level0 row7\" >>=40</th>\n",
       "                        <td id=\"T_f2ac1e64_2c3b_11eb_9b15_089e01cc0b48row7_col0\" class=\"data row7 col0\" >11</td>\n",
       "                        <td id=\"T_f2ac1e64_2c3b_11eb_9b15_089e01cc0b48row7_col1\" class=\"data row7 col1\" >$3.04</td>\n",
       "                        <td id=\"T_f2ac1e64_2c3b_11eb_9b15_089e01cc0b48row7_col2\" class=\"data row7 col2\" >$36.54</td>\n",
       "                        <td id=\"T_f2ac1e64_2c3b_11eb_9b15_089e01cc0b48row7_col3\" class=\"data row7 col3\" >$3.04</td>\n",
       "            </tr>\n",
       "    </tbody></table>"
      ],
      "text/plain": [
       "<pandas.io.formats.style.Styler at 0x21437833280>"
      ]
     },
     "execution_count": 31,
     "metadata": {},
     "output_type": "execute_result"
    }
   ],
   "source": [
    "#Display summary of Purchasing Analysis by Age Range\n",
    "age_range_analysis_df = pd.DataFrame({\"Purchase Count\":age_range_count_sr.values,\n",
    "                                      \"Average Purchase Price\":avg_purchase_age_range_df,\n",
    "                                      \"Total Purchase Value\":total_purchase_value_df,\n",
    "                                      \"Average Spent per Person\":avg_purchase_nona})\n",
    "age_range_analysis_df.style.format({\"Average Purchase Price\":\"${:,.2f}\", \"Total Purchase Value\":\"${:,.2f}\", \"Average Spent per Person\":\"${:,.2f}\"})"
   ]
  },
  {
   "cell_type": "markdown",
   "metadata": {},
   "source": [
    "## Top Spenders"
   ]
  },
  {
   "cell_type": "markdown",
   "metadata": {},
   "source": [
    "* Run basic calculations to obtain the results in the table below\n",
    "\n",
    "\n",
    "* Create a summary data frame to hold the results\n",
    "\n",
    "\n",
    "* Sort the total purchase value column in descending order\n",
    "\n",
    "\n",
    "* Optional: give the displayed data cleaner formatting\n",
    "\n",
    "\n",
    "* Display a preview of the summary data frame\n",
    "\n"
   ]
  },
  {
   "cell_type": "code",
   "execution_count": 32,
   "metadata": {},
   "outputs": [],
   "source": [
    "players_purchase_count_df = purchase_data_df.groupby(\"SN\").count()[\"Price\"].rename(\"Purchase Count\")\n",
    "players_average_price_df = purchase_data_df.groupby(\"SN\").mean()[\"Price\"].rename(\"Average Purchase Price\")\n",
    "players_total_df = purchase_data_df.groupby(\"SN\").sum()[\"Price\"].rename(\"Total Purchase Value\")\n"
   ]
  },
  {
   "cell_type": "code",
   "execution_count": 33,
   "metadata": {},
   "outputs": [
    {
     "data": {
      "text/html": [
       "<style  type=\"text/css\" >\n",
       "</style><table id=\"T_f2b7901f_2c3b_11eb_8dab_089e01cc0b48\" ><thead>    <tr>        <th class=\"blank level0\" ></th>        <th class=\"col_heading level0 col0\" >Purchase Count</th>        <th class=\"col_heading level0 col1\" >Average Purchase Price</th>        <th class=\"col_heading level0 col2\" >Total Purchase Value</th>    </tr>    <tr>        <th class=\"index_name level0\" >SN</th>        <th class=\"blank\" ></th>        <th class=\"blank\" ></th>        <th class=\"blank\" ></th>    </tr></thead><tbody>\n",
       "                <tr>\n",
       "                        <th id=\"T_f2b7901f_2c3b_11eb_8dab_089e01cc0b48level0_row0\" class=\"row_heading level0 row0\" >Adairialis76</th>\n",
       "                        <td id=\"T_f2b7901f_2c3b_11eb_8dab_089e01cc0b48row0_col0\" class=\"data row0 col0\" >1</td>\n",
       "                        <td id=\"T_f2b7901f_2c3b_11eb_8dab_089e01cc0b48row0_col1\" class=\"data row0 col1\" >$2.28</td>\n",
       "                        <td id=\"T_f2b7901f_2c3b_11eb_8dab_089e01cc0b48row0_col2\" class=\"data row0 col2\" >$2.28</td>\n",
       "            </tr>\n",
       "            <tr>\n",
       "                        <th id=\"T_f2b7901f_2c3b_11eb_8dab_089e01cc0b48level0_row1\" class=\"row_heading level0 row1\" >Adastirin33</th>\n",
       "                        <td id=\"T_f2b7901f_2c3b_11eb_8dab_089e01cc0b48row1_col0\" class=\"data row1 col0\" >1</td>\n",
       "                        <td id=\"T_f2b7901f_2c3b_11eb_8dab_089e01cc0b48row1_col1\" class=\"data row1 col1\" >$4.48</td>\n",
       "                        <td id=\"T_f2b7901f_2c3b_11eb_8dab_089e01cc0b48row1_col2\" class=\"data row1 col2\" >$4.48</td>\n",
       "            </tr>\n",
       "            <tr>\n",
       "                        <th id=\"T_f2b7901f_2c3b_11eb_8dab_089e01cc0b48level0_row2\" class=\"row_heading level0 row2\" >Aeda94</th>\n",
       "                        <td id=\"T_f2b7901f_2c3b_11eb_8dab_089e01cc0b48row2_col0\" class=\"data row2 col0\" >1</td>\n",
       "                        <td id=\"T_f2b7901f_2c3b_11eb_8dab_089e01cc0b48row2_col1\" class=\"data row2 col1\" >$4.91</td>\n",
       "                        <td id=\"T_f2b7901f_2c3b_11eb_8dab_089e01cc0b48row2_col2\" class=\"data row2 col2\" >$4.91</td>\n",
       "            </tr>\n",
       "            <tr>\n",
       "                        <th id=\"T_f2b7901f_2c3b_11eb_8dab_089e01cc0b48level0_row3\" class=\"row_heading level0 row3\" >Aela59</th>\n",
       "                        <td id=\"T_f2b7901f_2c3b_11eb_8dab_089e01cc0b48row3_col0\" class=\"data row3 col0\" >1</td>\n",
       "                        <td id=\"T_f2b7901f_2c3b_11eb_8dab_089e01cc0b48row3_col1\" class=\"data row3 col1\" >$4.32</td>\n",
       "                        <td id=\"T_f2b7901f_2c3b_11eb_8dab_089e01cc0b48row3_col2\" class=\"data row3 col2\" >$4.32</td>\n",
       "            </tr>\n",
       "            <tr>\n",
       "                        <th id=\"T_f2b7901f_2c3b_11eb_8dab_089e01cc0b48level0_row4\" class=\"row_heading level0 row4\" >Aelaria33</th>\n",
       "                        <td id=\"T_f2b7901f_2c3b_11eb_8dab_089e01cc0b48row4_col0\" class=\"data row4 col0\" >1</td>\n",
       "                        <td id=\"T_f2b7901f_2c3b_11eb_8dab_089e01cc0b48row4_col1\" class=\"data row4 col1\" >$1.79</td>\n",
       "                        <td id=\"T_f2b7901f_2c3b_11eb_8dab_089e01cc0b48row4_col2\" class=\"data row4 col2\" >$1.79</td>\n",
       "            </tr>\n",
       "    </tbody></table>"
      ],
      "text/plain": [
       "<pandas.io.formats.style.Styler at 0x214378cf430>"
      ]
     },
     "execution_count": 33,
     "metadata": {},
     "output_type": "execute_result"
    }
   ],
   "source": [
    "total_user_data_df = pd.DataFrame({\"Purchase Count\":players_purchase_count_df,\n",
    "                                  \"Average Purchase Price\":players_average_price_df,\n",
    "                                  \"Total Purchase Value\":players_total_df})\n",
    "total_user_data_df.head().style.format({\"Average Purchase Price\":\"${:.2f}\", \"Total Purchase Value\":\"${:.2f}\"})"
   ]
  },
  {
   "cell_type": "code",
   "execution_count": 34,
   "metadata": {},
   "outputs": [
    {
     "data": {
      "text/html": [
       "<style  type=\"text/css\" >\n",
       "</style><table id=\"T_f2bf0a25_2c3b_11eb_b746_089e01cc0b48\" ><thead>    <tr>        <th class=\"blank level0\" ></th>        <th class=\"col_heading level0 col0\" >Purchase Count</th>        <th class=\"col_heading level0 col1\" >Average Purchase Price</th>        <th class=\"col_heading level0 col2\" >Total Purchase Value</th>    </tr>    <tr>        <th class=\"index_name level0\" >SN</th>        <th class=\"blank\" ></th>        <th class=\"blank\" ></th>        <th class=\"blank\" ></th>    </tr></thead><tbody>\n",
       "                <tr>\n",
       "                        <th id=\"T_f2bf0a25_2c3b_11eb_b746_089e01cc0b48level0_row0\" class=\"row_heading level0 row0\" >Lisosia93</th>\n",
       "                        <td id=\"T_f2bf0a25_2c3b_11eb_b746_089e01cc0b48row0_col0\" class=\"data row0 col0\" >5</td>\n",
       "                        <td id=\"T_f2bf0a25_2c3b_11eb_b746_089e01cc0b48row0_col1\" class=\"data row0 col1\" >$3.79</td>\n",
       "                        <td id=\"T_f2bf0a25_2c3b_11eb_b746_089e01cc0b48row0_col2\" class=\"data row0 col2\" >$18.96</td>\n",
       "            </tr>\n",
       "            <tr>\n",
       "                        <th id=\"T_f2bf0a25_2c3b_11eb_b746_089e01cc0b48level0_row1\" class=\"row_heading level0 row1\" >Idastidru52</th>\n",
       "                        <td id=\"T_f2bf0a25_2c3b_11eb_b746_089e01cc0b48row1_col0\" class=\"data row1 col0\" >4</td>\n",
       "                        <td id=\"T_f2bf0a25_2c3b_11eb_b746_089e01cc0b48row1_col1\" class=\"data row1 col1\" >$3.86</td>\n",
       "                        <td id=\"T_f2bf0a25_2c3b_11eb_b746_089e01cc0b48row1_col2\" class=\"data row1 col2\" >$15.45</td>\n",
       "            </tr>\n",
       "            <tr>\n",
       "                        <th id=\"T_f2bf0a25_2c3b_11eb_b746_089e01cc0b48level0_row2\" class=\"row_heading level0 row2\" >Chamjask73</th>\n",
       "                        <td id=\"T_f2bf0a25_2c3b_11eb_b746_089e01cc0b48row2_col0\" class=\"data row2 col0\" >3</td>\n",
       "                        <td id=\"T_f2bf0a25_2c3b_11eb_b746_089e01cc0b48row2_col1\" class=\"data row2 col1\" >$4.61</td>\n",
       "                        <td id=\"T_f2bf0a25_2c3b_11eb_b746_089e01cc0b48row2_col2\" class=\"data row2 col2\" >$13.83</td>\n",
       "            </tr>\n",
       "            <tr>\n",
       "                        <th id=\"T_f2bf0a25_2c3b_11eb_b746_089e01cc0b48level0_row3\" class=\"row_heading level0 row3\" >Iral74</th>\n",
       "                        <td id=\"T_f2bf0a25_2c3b_11eb_b746_089e01cc0b48row3_col0\" class=\"data row3 col0\" >4</td>\n",
       "                        <td id=\"T_f2bf0a25_2c3b_11eb_b746_089e01cc0b48row3_col1\" class=\"data row3 col1\" >$3.40</td>\n",
       "                        <td id=\"T_f2bf0a25_2c3b_11eb_b746_089e01cc0b48row3_col2\" class=\"data row3 col2\" >$13.62</td>\n",
       "            </tr>\n",
       "            <tr>\n",
       "                        <th id=\"T_f2bf0a25_2c3b_11eb_b746_089e01cc0b48level0_row4\" class=\"row_heading level0 row4\" >Iskadarya95</th>\n",
       "                        <td id=\"T_f2bf0a25_2c3b_11eb_b746_089e01cc0b48row4_col0\" class=\"data row4 col0\" >3</td>\n",
       "                        <td id=\"T_f2bf0a25_2c3b_11eb_b746_089e01cc0b48row4_col1\" class=\"data row4 col1\" >$4.37</td>\n",
       "                        <td id=\"T_f2bf0a25_2c3b_11eb_b746_089e01cc0b48row4_col2\" class=\"data row4 col2\" >$13.10</td>\n",
       "            </tr>\n",
       "    </tbody></table>"
      ],
      "text/plain": [
       "<pandas.io.formats.style.Styler at 0x214378cf3d0>"
      ]
     },
     "execution_count": 34,
     "metadata": {},
     "output_type": "execute_result"
    }
   ],
   "source": [
    "top_five_spenders = total_user_data_df.sort_values(\"Total Purchase Value\", ascending=False)\n",
    "top_five_spenders.head().round(2).style.format({\"Total Purchase Value\":\"${:.2f}\", \"Average Purchase Price\":\"${:.2f}\"})"
   ]
  },
  {
   "cell_type": "markdown",
   "metadata": {},
   "source": [
    "## Most Popular Items"
   ]
  },
  {
   "cell_type": "markdown",
   "metadata": {},
   "source": [
    "* Retrieve the Item ID, Item Name, and Item Price columns\n",
    "\n",
    "\n",
    "* Group by Item ID and Item Name. Perform calculations to obtain purchase count, average item price, and total purchase value\n",
    "\n",
    "\n",
    "* Create a summary data frame to hold the results\n",
    "\n",
    "\n",
    "* Sort the purchase count column in descending order\n",
    "\n",
    "\n",
    "* Optional: give the displayed data cleaner formatting\n",
    "\n",
    "\n",
    "* Display a preview of the summary data frame\n",
    "\n"
   ]
  },
  {
   "cell_type": "code",
   "execution_count": 35,
   "metadata": {},
   "outputs": [],
   "source": [
    "items_purchase_count_df = purchase_data_df.groupby([\"Item ID\", \"Item Name\"]).count()[\"Price\"].rename(\"Purchase Count\")\n",
    "items_average_price_df = purchase_data_df.groupby([\"Item ID\", \"Item Name\"]).mean()[\"Price\"].rename(\"Average Purchase Price\")\n",
    "items_value_total_df = purchase_data_df.groupby([\"Item ID\", \"Item Name\"]).sum()[\"Price\"].rename(\"Total Purchase Value\")\n"
   ]
  },
  {
   "cell_type": "code",
   "execution_count": 36,
   "metadata": {
    "scrolled": true
   },
   "outputs": [
    {
     "data": {
      "text/html": [
       "<style  type=\"text/css\" >\n",
       "</style><table id=\"T_f2cdb016_2c3b_11eb_b2b7_089e01cc0b48\" ><thead>    <tr>        <th class=\"blank\" ></th>        <th class=\"blank level0\" ></th>        <th class=\"col_heading level0 col0\" >Purchase Count</th>        <th class=\"col_heading level0 col1\" >Item Price</th>        <th class=\"col_heading level0 col2\" >Total Purchase Value</th>    </tr>    <tr>        <th class=\"index_name level0\" >Item ID</th>        <th class=\"index_name level1\" >Item Name</th>        <th class=\"blank\" ></th>        <th class=\"blank\" ></th>        <th class=\"blank\" ></th>    </tr></thead><tbody>\n",
       "                <tr>\n",
       "                        <th id=\"T_f2cdb016_2c3b_11eb_b2b7_089e01cc0b48level0_row0\" class=\"row_heading level0 row0\" >0</th>\n",
       "                        <th id=\"T_f2cdb016_2c3b_11eb_b2b7_089e01cc0b48level1_row0\" class=\"row_heading level1 row0\" >Splinter</th>\n",
       "                        <td id=\"T_f2cdb016_2c3b_11eb_b2b7_089e01cc0b48row0_col0\" class=\"data row0 col0\" >4</td>\n",
       "                        <td id=\"T_f2cdb016_2c3b_11eb_b2b7_089e01cc0b48row0_col1\" class=\"data row0 col1\" >$1.28</td>\n",
       "                        <td id=\"T_f2cdb016_2c3b_11eb_b2b7_089e01cc0b48row0_col2\" class=\"data row0 col2\" >$5.12</td>\n",
       "            </tr>\n",
       "            <tr>\n",
       "                        <th id=\"T_f2cdb016_2c3b_11eb_b2b7_089e01cc0b48level0_row1\" class=\"row_heading level0 row1\" >1</th>\n",
       "                        <th id=\"T_f2cdb016_2c3b_11eb_b2b7_089e01cc0b48level1_row1\" class=\"row_heading level1 row1\" >Crucifer</th>\n",
       "                        <td id=\"T_f2cdb016_2c3b_11eb_b2b7_089e01cc0b48row1_col0\" class=\"data row1 col0\" >4</td>\n",
       "                        <td id=\"T_f2cdb016_2c3b_11eb_b2b7_089e01cc0b48row1_col1\" class=\"data row1 col1\" >$2.94</td>\n",
       "                        <td id=\"T_f2cdb016_2c3b_11eb_b2b7_089e01cc0b48row1_col2\" class=\"data row1 col2\" >$11.77</td>\n",
       "            </tr>\n",
       "            <tr>\n",
       "                        <th id=\"T_f2cdb016_2c3b_11eb_b2b7_089e01cc0b48level0_row2\" class=\"row_heading level0 row2\" >2</th>\n",
       "                        <th id=\"T_f2cdb016_2c3b_11eb_b2b7_089e01cc0b48level1_row2\" class=\"row_heading level1 row2\" >Verdict</th>\n",
       "                        <td id=\"T_f2cdb016_2c3b_11eb_b2b7_089e01cc0b48row2_col0\" class=\"data row2 col0\" >6</td>\n",
       "                        <td id=\"T_f2cdb016_2c3b_11eb_b2b7_089e01cc0b48row2_col1\" class=\"data row2 col1\" >$2.48</td>\n",
       "                        <td id=\"T_f2cdb016_2c3b_11eb_b2b7_089e01cc0b48row2_col2\" class=\"data row2 col2\" >$14.88</td>\n",
       "            </tr>\n",
       "            <tr>\n",
       "                        <th id=\"T_f2cdb016_2c3b_11eb_b2b7_089e01cc0b48level0_row3\" class=\"row_heading level0 row3\" >3</th>\n",
       "                        <th id=\"T_f2cdb016_2c3b_11eb_b2b7_089e01cc0b48level1_row3\" class=\"row_heading level1 row3\" >Phantomlight</th>\n",
       "                        <td id=\"T_f2cdb016_2c3b_11eb_b2b7_089e01cc0b48row3_col0\" class=\"data row3 col0\" >6</td>\n",
       "                        <td id=\"T_f2cdb016_2c3b_11eb_b2b7_089e01cc0b48row3_col1\" class=\"data row3 col1\" >$2.49</td>\n",
       "                        <td id=\"T_f2cdb016_2c3b_11eb_b2b7_089e01cc0b48row3_col2\" class=\"data row3 col2\" >$14.94</td>\n",
       "            </tr>\n",
       "            <tr>\n",
       "                        <th id=\"T_f2cdb016_2c3b_11eb_b2b7_089e01cc0b48level0_row4\" class=\"row_heading level0 row4\" >4</th>\n",
       "                        <th id=\"T_f2cdb016_2c3b_11eb_b2b7_089e01cc0b48level1_row4\" class=\"row_heading level1 row4\" >Bloodlord's Fetish</th>\n",
       "                        <td id=\"T_f2cdb016_2c3b_11eb_b2b7_089e01cc0b48row4_col0\" class=\"data row4 col0\" >5</td>\n",
       "                        <td id=\"T_f2cdb016_2c3b_11eb_b2b7_089e01cc0b48row4_col1\" class=\"data row4 col1\" >$1.70</td>\n",
       "                        <td id=\"T_f2cdb016_2c3b_11eb_b2b7_089e01cc0b48row4_col2\" class=\"data row4 col2\" >$8.50</td>\n",
       "            </tr>\n",
       "    </tbody></table>"
      ],
      "text/plain": [
       "<pandas.io.formats.style.Styler at 0x214378cf220>"
      ]
     },
     "execution_count": 36,
     "metadata": {},
     "output_type": "execute_result"
    }
   ],
   "source": [
    "items_purchased_df = pd.DataFrame({\"Purchase Count\":items_purchase_count_df,\n",
    "                                  \"Item Price\":items_average_price_df,\n",
    "                                  \"Total Purchase Value\":items_value_total_df,})\n",
    "items_purchased_df.head().style.format({\"Item Price\":\"${:.2f}\", \"Total Purchase Value\":\"${:.2f}\"})"
   ]
  },
  {
   "cell_type": "code",
   "execution_count": 37,
   "metadata": {},
   "outputs": [
    {
     "data": {
      "text/html": [
       "<style  type=\"text/css\" >\n",
       "</style><table id=\"T_f2d26b00_2c3b_11eb_ad81_089e01cc0b48\" ><thead>    <tr>        <th class=\"blank\" ></th>        <th class=\"blank level0\" ></th>        <th class=\"col_heading level0 col0\" >Purchase Count</th>        <th class=\"col_heading level0 col1\" >Item Price</th>        <th class=\"col_heading level0 col2\" >Total Purchase Value</th>    </tr>    <tr>        <th class=\"index_name level0\" >Item ID</th>        <th class=\"index_name level1\" >Item Name</th>        <th class=\"blank\" ></th>        <th class=\"blank\" ></th>        <th class=\"blank\" ></th>    </tr></thead><tbody>\n",
       "                <tr>\n",
       "                        <th id=\"T_f2d26b00_2c3b_11eb_ad81_089e01cc0b48level0_row0\" class=\"row_heading level0 row0\" >92</th>\n",
       "                        <th id=\"T_f2d26b00_2c3b_11eb_ad81_089e01cc0b48level1_row0\" class=\"row_heading level1 row0\" >Final Critic</th>\n",
       "                        <td id=\"T_f2d26b00_2c3b_11eb_ad81_089e01cc0b48row0_col0\" class=\"data row0 col0\" >13</td>\n",
       "                        <td id=\"T_f2d26b00_2c3b_11eb_ad81_089e01cc0b48row0_col1\" class=\"data row0 col1\" >$4.61</td>\n",
       "                        <td id=\"T_f2d26b00_2c3b_11eb_ad81_089e01cc0b48row0_col2\" class=\"data row0 col2\" >$59.99</td>\n",
       "            </tr>\n",
       "            <tr>\n",
       "                        <th id=\"T_f2d26b00_2c3b_11eb_ad81_089e01cc0b48level0_row1\" class=\"row_heading level0 row1\" >178</th>\n",
       "                        <th id=\"T_f2d26b00_2c3b_11eb_ad81_089e01cc0b48level1_row1\" class=\"row_heading level1 row1\" >Oathbreaker, Last Hope of the Breaking Storm</th>\n",
       "                        <td id=\"T_f2d26b00_2c3b_11eb_ad81_089e01cc0b48row1_col0\" class=\"data row1 col0\" >12</td>\n",
       "                        <td id=\"T_f2d26b00_2c3b_11eb_ad81_089e01cc0b48row1_col1\" class=\"data row1 col1\" >$4.23</td>\n",
       "                        <td id=\"T_f2d26b00_2c3b_11eb_ad81_089e01cc0b48row1_col2\" class=\"data row1 col2\" >$50.76</td>\n",
       "            </tr>\n",
       "            <tr>\n",
       "                        <th id=\"T_f2d26b00_2c3b_11eb_ad81_089e01cc0b48level0_row2\" class=\"row_heading level0 row2\" >145</th>\n",
       "                        <th id=\"T_f2d26b00_2c3b_11eb_ad81_089e01cc0b48level1_row2\" class=\"row_heading level1 row2\" >Fiery Glass Crusader</th>\n",
       "                        <td id=\"T_f2d26b00_2c3b_11eb_ad81_089e01cc0b48row2_col0\" class=\"data row2 col0\" >9</td>\n",
       "                        <td id=\"T_f2d26b00_2c3b_11eb_ad81_089e01cc0b48row2_col1\" class=\"data row2 col1\" >$4.58</td>\n",
       "                        <td id=\"T_f2d26b00_2c3b_11eb_ad81_089e01cc0b48row2_col2\" class=\"data row2 col2\" >$41.22</td>\n",
       "            </tr>\n",
       "            <tr>\n",
       "                        <th id=\"T_f2d26b00_2c3b_11eb_ad81_089e01cc0b48level0_row3\" class=\"row_heading level0 row3\" >132</th>\n",
       "                        <th id=\"T_f2d26b00_2c3b_11eb_ad81_089e01cc0b48level1_row3\" class=\"row_heading level1 row3\" >Persuasion</th>\n",
       "                        <td id=\"T_f2d26b00_2c3b_11eb_ad81_089e01cc0b48row3_col0\" class=\"data row3 col0\" >9</td>\n",
       "                        <td id=\"T_f2d26b00_2c3b_11eb_ad81_089e01cc0b48row3_col1\" class=\"data row3 col1\" >$3.22</td>\n",
       "                        <td id=\"T_f2d26b00_2c3b_11eb_ad81_089e01cc0b48row3_col2\" class=\"data row3 col2\" >$28.99</td>\n",
       "            </tr>\n",
       "            <tr>\n",
       "                        <th id=\"T_f2d26b00_2c3b_11eb_ad81_089e01cc0b48level0_row4\" class=\"row_heading level0 row4\" >108</th>\n",
       "                        <th id=\"T_f2d26b00_2c3b_11eb_ad81_089e01cc0b48level1_row4\" class=\"row_heading level1 row4\" >Extraction, Quickblade Of Trembling Hands</th>\n",
       "                        <td id=\"T_f2d26b00_2c3b_11eb_ad81_089e01cc0b48row4_col0\" class=\"data row4 col0\" >9</td>\n",
       "                        <td id=\"T_f2d26b00_2c3b_11eb_ad81_089e01cc0b48row4_col1\" class=\"data row4 col1\" >$3.53</td>\n",
       "                        <td id=\"T_f2d26b00_2c3b_11eb_ad81_089e01cc0b48row4_col2\" class=\"data row4 col2\" >$31.77</td>\n",
       "            </tr>\n",
       "    </tbody></table>"
      ],
      "text/plain": [
       "<pandas.io.formats.style.Styler at 0x214378e7160>"
      ]
     },
     "execution_count": 37,
     "metadata": {},
     "output_type": "execute_result"
    }
   ],
   "source": [
    "most_popular_items_df = items_purchased_df.sort_values(\"Purchase Count\", ascending=False)\n",
    "most_popular_items_df.head().style.format({\"Item Price\":\"${:.2f}\", \"Total Purchase Value\":\"${:.2f}\"})"
   ]
  },
  {
   "cell_type": "markdown",
   "metadata": {},
   "source": [
    "## Most Profitable Items"
   ]
  },
  {
   "cell_type": "markdown",
   "metadata": {},
   "source": [
    "* Sort the above table by total purchase value in descending order\n",
    "\n",
    "\n",
    "* Optional: give the displayed data cleaner formatting\n",
    "\n",
    "\n",
    "* Display a preview of the data frame\n",
    "\n"
   ]
  },
  {
   "cell_type": "code",
   "execution_count": 38,
   "metadata": {
    "scrolled": true
   },
   "outputs": [
    {
     "data": {
      "text/html": [
       "<style  type=\"text/css\" >\n",
       "</style><table id=\"T_f2d9be06_2c3b_11eb_8f14_089e01cc0b48\" ><thead>    <tr>        <th class=\"blank\" ></th>        <th class=\"blank level0\" ></th>        <th class=\"col_heading level0 col0\" >Purchase Count</th>        <th class=\"col_heading level0 col1\" >Item Price</th>        <th class=\"col_heading level0 col2\" >Total Purchase Value</th>    </tr>    <tr>        <th class=\"index_name level0\" >Item ID</th>        <th class=\"index_name level1\" >Item Name</th>        <th class=\"blank\" ></th>        <th class=\"blank\" ></th>        <th class=\"blank\" ></th>    </tr></thead><tbody>\n",
       "                <tr>\n",
       "                        <th id=\"T_f2d9be06_2c3b_11eb_8f14_089e01cc0b48level0_row0\" class=\"row_heading level0 row0\" >92</th>\n",
       "                        <th id=\"T_f2d9be06_2c3b_11eb_8f14_089e01cc0b48level1_row0\" class=\"row_heading level1 row0\" >Final Critic</th>\n",
       "                        <td id=\"T_f2d9be06_2c3b_11eb_8f14_089e01cc0b48row0_col0\" class=\"data row0 col0\" >13</td>\n",
       "                        <td id=\"T_f2d9be06_2c3b_11eb_8f14_089e01cc0b48row0_col1\" class=\"data row0 col1\" >$4.61</td>\n",
       "                        <td id=\"T_f2d9be06_2c3b_11eb_8f14_089e01cc0b48row0_col2\" class=\"data row0 col2\" >$59.99</td>\n",
       "            </tr>\n",
       "            <tr>\n",
       "                        <th id=\"T_f2d9be06_2c3b_11eb_8f14_089e01cc0b48level0_row1\" class=\"row_heading level0 row1\" >178</th>\n",
       "                        <th id=\"T_f2d9be06_2c3b_11eb_8f14_089e01cc0b48level1_row1\" class=\"row_heading level1 row1\" >Oathbreaker, Last Hope of the Breaking Storm</th>\n",
       "                        <td id=\"T_f2d9be06_2c3b_11eb_8f14_089e01cc0b48row1_col0\" class=\"data row1 col0\" >12</td>\n",
       "                        <td id=\"T_f2d9be06_2c3b_11eb_8f14_089e01cc0b48row1_col1\" class=\"data row1 col1\" >$4.23</td>\n",
       "                        <td id=\"T_f2d9be06_2c3b_11eb_8f14_089e01cc0b48row1_col2\" class=\"data row1 col2\" >$50.76</td>\n",
       "            </tr>\n",
       "            <tr>\n",
       "                        <th id=\"T_f2d9be06_2c3b_11eb_8f14_089e01cc0b48level0_row2\" class=\"row_heading level0 row2\" >82</th>\n",
       "                        <th id=\"T_f2d9be06_2c3b_11eb_8f14_089e01cc0b48level1_row2\" class=\"row_heading level1 row2\" >Nirvana</th>\n",
       "                        <td id=\"T_f2d9be06_2c3b_11eb_8f14_089e01cc0b48row2_col0\" class=\"data row2 col0\" >9</td>\n",
       "                        <td id=\"T_f2d9be06_2c3b_11eb_8f14_089e01cc0b48row2_col1\" class=\"data row2 col1\" >$4.90</td>\n",
       "                        <td id=\"T_f2d9be06_2c3b_11eb_8f14_089e01cc0b48row2_col2\" class=\"data row2 col2\" >$44.10</td>\n",
       "            </tr>\n",
       "            <tr>\n",
       "                        <th id=\"T_f2d9be06_2c3b_11eb_8f14_089e01cc0b48level0_row3\" class=\"row_heading level0 row3\" >145</th>\n",
       "                        <th id=\"T_f2d9be06_2c3b_11eb_8f14_089e01cc0b48level1_row3\" class=\"row_heading level1 row3\" >Fiery Glass Crusader</th>\n",
       "                        <td id=\"T_f2d9be06_2c3b_11eb_8f14_089e01cc0b48row3_col0\" class=\"data row3 col0\" >9</td>\n",
       "                        <td id=\"T_f2d9be06_2c3b_11eb_8f14_089e01cc0b48row3_col1\" class=\"data row3 col1\" >$4.58</td>\n",
       "                        <td id=\"T_f2d9be06_2c3b_11eb_8f14_089e01cc0b48row3_col2\" class=\"data row3 col2\" >$41.22</td>\n",
       "            </tr>\n",
       "            <tr>\n",
       "                        <th id=\"T_f2d9be06_2c3b_11eb_8f14_089e01cc0b48level0_row4\" class=\"row_heading level0 row4\" >103</th>\n",
       "                        <th id=\"T_f2d9be06_2c3b_11eb_8f14_089e01cc0b48level1_row4\" class=\"row_heading level1 row4\" >Singed Scalpel</th>\n",
       "                        <td id=\"T_f2d9be06_2c3b_11eb_8f14_089e01cc0b48row4_col0\" class=\"data row4 col0\" >8</td>\n",
       "                        <td id=\"T_f2d9be06_2c3b_11eb_8f14_089e01cc0b48row4_col1\" class=\"data row4 col1\" >$4.35</td>\n",
       "                        <td id=\"T_f2d9be06_2c3b_11eb_8f14_089e01cc0b48row4_col2\" class=\"data row4 col2\" >$34.80</td>\n",
       "            </tr>\n",
       "    </tbody></table>"
      ],
      "text/plain": [
       "<pandas.io.formats.style.Styler at 0x214378e7e80>"
      ]
     },
     "execution_count": 38,
     "metadata": {},
     "output_type": "execute_result"
    }
   ],
   "source": [
    "most_profitable_items_df = items_purchased_df.sort_values(\"Total Purchase Value\", ascending=False)\n",
    "most_profitable_items_df.head().style.format({\"Item Price\":\"${:.2f}\", \"Total Purchase Value\":\"${:.2f}\"})"
   ]
  },
  {
   "cell_type": "code",
   "execution_count": null,
   "metadata": {},
   "outputs": [],
   "source": []
  }
 ],
 "metadata": {
  "anaconda-cloud": {},
  "kernel_info": {
   "name": "python3"
  },
  "kernelspec": {
   "display_name": "PythonData2",
   "language": "python",
   "name": "pythondata2"
  },
  "language_info": {
   "codemirror_mode": {
    "name": "ipython",
    "version": 3
   },
   "file_extension": ".py",
   "mimetype": "text/x-python",
   "name": "python",
   "nbconvert_exporter": "python",
   "pygments_lexer": "ipython3",
   "version": "3.8.3"
  },
  "latex_envs": {
   "LaTeX_envs_menu_present": true,
   "autoclose": false,
   "autocomplete": true,
   "bibliofile": "biblio.bib",
   "cite_by": "apalike",
   "current_citInitial": 1,
   "eqLabelWithNumbers": true,
   "eqNumInitial": 1,
   "hotkeys": {
    "equation": "Ctrl-E",
    "itemize": "Ctrl-I"
   },
   "labels_anchors": false,
   "latex_user_defs": false,
   "report_style_numbering": false,
   "user_envs_cfg": false
  },
  "nteract": {
   "version": "0.2.0"
  }
 },
 "nbformat": 4,
 "nbformat_minor": 2
}
